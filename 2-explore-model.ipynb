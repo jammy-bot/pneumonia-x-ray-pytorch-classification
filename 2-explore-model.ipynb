{
 "cells": [
  {
   "cell_type": "markdown",
   "metadata": {
    "colab_type": "text",
    "id": "JilisXHhEINl"
   },
   "source": [
    ">For this project, we will be working with the __Chest X-Ray Images (Pneumonia)__ dataset, from Kaggle [https://www.kaggle.com/paultimothymooney/chest-xray-pneumonia](https://www.kaggle.com/paultimothymooney/chest-xray-pneumonia). The objective of the project is to build a deep neural network model that can classify whether a given patient has pneumonia, given a chest x-ray image.\n",
    "\n",
    "        Acknowledgements\n",
    "        Data: https://data.mendeley.com/datasets/rscbjbr9sj/2\n",
    "\n",
    "        License: CC BY 4.0\n",
    "\n",
    "        Citation: http://www.cell.com/cell/fulltext/S0092-8674(18)30154-5\n"
   ]
  },
  {
   "cell_type": "markdown",
   "metadata": {
    "colab_type": "text",
    "id": "0hJ4voYcdZel"
   },
   "source": [
    "## 2-Explore and Model\n",
    "\n"
   ]
  },
  {
   "cell_type": "code",
   "execution_count": 0,
   "metadata": {
    "colab": {},
    "colab_type": "code",
    "id": "b4yoxeYd4C-n"
   },
   "outputs": [],
   "source": [
    "# importing necessary libraries.\n",
    "# import numpy as np\n",
    "# import matplotlib.pyplot as plt\n",
    "# %matplotlib inline\n",
    "import time\n",
    "import scipy\n",
    "from PIL import Image\n",
    "from scipy import ndimage\n",
    "from keras.preprocessing.image import ImageDataGenerator, array_to_img, img_to_array, load_img\n",
    "\n",
    "np.random.seed(123)"
   ]
  },
  {
   "cell_type": "markdown",
   "metadata": {
    "colab_type": "text",
    "id": "H4VuQ5y7TKUa"
   },
   "source": [
    "__Data Counts and Shapes__\n",
    "\n",
    "__Standardize__ image data by dividing each matrix of rgb values by 255."
   ]
  },
  {
   "cell_type": "code",
   "execution_count": 0,
   "metadata": {
    "colab": {},
    "colab_type": "code",
    "id": "R-QlZvfzNX9K"
   },
   "outputs": [],
   "source": [
    "# instantiating rescaling generators tor train and val data\n",
    "train_datagen = ImageDataGenerator(rescale=1./255)\n",
    "test_datagen = ImageDataGenerator(rescale=1./255)"
   ]
  },
  {
   "cell_type": "markdown",
   "metadata": {
    "colab_type": "text",
    "id": "7dGrNhBTEKbf"
   },
   "source": [
    "__Reshape__ image data and labels"
   ]
  },
  {
   "cell_type": "code",
   "execution_count": 0,
   "metadata": {
    "colab": {
     "base_uri": "https://localhost:8080/",
     "height": 52
    },
    "colab_type": "code",
    "id": "-G-b0EfFOsdd",
    "outputId": "62aacdd5-86a3-4d18-ec3f-d6e84bede38f"
   },
   "outputs": [
    {
     "name": "stdout",
     "output_type": "stream",
     "text": [
      "Found 5216 images belonging to 2 classes.\n",
      "Found 16 images belonging to 2 classes.\n"
     ]
    }
   ],
   "source": [
    "# generating training and validation data\n",
    "train_generator = train_datagen.flow_from_directory(\n",
    "        # This is the target directory\n",
    "        train_dir, \n",
    "        shuffle=True, \n",
    "        # All images will be resized to 150x150\n",
    "        target_size=(150, 150),\n",
    "        batch_size=32,\n",
    "        # Since we use binary_crossentropy loss, we need binary labels\n",
    "        class_mode='binary')\n",
    "\n",
    "validation_generator = test_datagen.flow_from_directory(val_dir,\n",
    "                                                        target_size=(150, 150),\n",
    "                                                        batch_size=20,\n",
    "                                                        class_mode='binary')"
   ]
  },
  {
   "cell_type": "markdown",
   "metadata": {
    "colab_type": "text",
    "id": "1PLnMTmL-cBC"
   },
   "source": [
    "__Visualize Training Data Counts__"
   ]
  },
  {
   "cell_type": "code",
   "execution_count": 0,
   "metadata": {
    "colab": {},
    "colab_type": "code",
    "id": "cj4RYrp6MKY6"
   },
   "outputs": [],
   "source": [
    "def bar_plot(dir):\n",
    "    x_dir = os.listdir(dir+'/NORMAL')\n",
    "    y_dir = os.listdir(dir+'/PNEUMONIA')\n",
    "    x=len(x_dir)\n",
    "    y=len(y_dir)\n",
    "    if dir != test_dir: \n",
    "        # account for non - image files in `train` and `val` directories\n",
    "        x = x - 1\n",
    "        y = y - 1\n",
    "    print(f'{dir} Images:\\n')\n",
    "    print('NORMAL:', x)\n",
    "    print('PNEUMONIA:', y)\n",
    "    print('Total images:', x + y)\n",
    "    print('-'*50)\n",
    "    # instantiate directory name for plot title\n",
    "    subdir_title = str.split(dir, '/')[-2] + ' directory'\n",
    "    category = ['NORMAL', 'PNEUMONIA']\n",
    "    count = [x, y]\n",
    "    plot = plt.bar(category,count) \n",
    "    plot[0].set_color('orange')\n",
    "    plt.title(\n",
    "        f\"Number of values per category in {subdir_title.title()}\\n\")\n",
    "    plt.show()"
   ]
  },
  {
   "cell_type": "code",
   "execution_count": 0,
   "metadata": {
    "colab": {
     "base_uri": "https://localhost:8080/",
     "height": 402
    },
    "colab_type": "code",
    "id": "aigbdWXp-d4W",
    "outputId": "0f31b047-b031-4959-aef8-5e4301c351e7"
   },
   "outputs": [
    {
     "name": "stdout",
     "output_type": "stream",
     "text": [
      "/root/data/chest_xray/chest_xray/train/ Images:\n",
      "\n",
      "NORMAL: 1341\n",
      "PNEUMONIA: 3875\n",
      "Total images: 5216\n",
      "--------------------------------------------------\n"
     ]
    },
    {
     "data": {
      "image/png": "[encoded data removed]",
      "text/plain": [
       "<Figure size 432x288 with 1 Axes>"
      ]
     },
     "metadata": {
      "needs_background": "light",
      "tags": []
     },
     "output_type": "display_data"
    }
   ],
   "source": [
    "# plotting training data counts\n",
    "bar_plot(train_dir)"
   ]
  },
  {
   "cell_type": "markdown",
   "metadata": {
    "colab_type": "text",
    "id": "yr6MsRb6RuAT"
   },
   "source": [
    "> Training data is noticeably unbalanced."
   ]
  },
  {
   "cell_type": "code",
   "execution_count": 0,
   "metadata": {
    "colab": {
     "base_uri": "https://localhost:8080/",
     "height": 402
    },
    "colab_type": "code",
    "id": "1PDX6SaYVcg8",
    "outputId": "4a3ac3cf-a110-4bb7-ed91-bd3fe96e59de"
   },
   "outputs": [
    {
     "name": "stdout",
     "output_type": "stream",
     "text": [
      "/root/data/chest_xray/chest_xray/val/ Images:\n",
      "\n",
      "NORMAL: 8\n",
      "PNEUMONIA: 8\n",
      "Total images: 16\n",
      "--------------------------------------------------\n"
     ]
    },
    {
     "data": {
      "image/png": "[encoded data removed]",
      "text/plain": [
       "<Figure size 432x288 with 1 Axes>"
      ]
     },
     "metadata": {
      "needs_background": "light",
      "tags": []
     },
     "output_type": "display_data"
    }
   ],
   "source": [
    "# plotting validation data counts\n",
    "bar_plot(val_dir)"
   ]
  },
  {
   "cell_type": "code",
   "execution_count": 0,
   "metadata": {
    "colab": {
     "base_uri": "https://localhost:8080/",
     "height": 402
    },
    "colab_type": "code",
    "id": "rQgzQYWIVmoC",
    "outputId": "7ee9e0d6-0470-40df-e6bd-74c43ae578ca"
   },
   "outputs": [
    {
     "name": "stdout",
     "output_type": "stream",
     "text": [
      "/root/data/chest_xray/chest_xray/test/ Images:\n",
      "\n",
      "NORMAL: 234\n",
      "PNEUMONIA: 390\n",
      "Total images: 624\n",
      "--------------------------------------------------\n"
     ]
    },
    {
     "data": {
      "image/png": "[encoded data removed]",
      "text/plain": [
       "<Figure size 432x288 with 1 Axes>"
      ]
     },
     "metadata": {
      "needs_background": "light",
      "tags": []
     },
     "output_type": "display_data"
    }
   ],
   "source": [
    "# plotting test data counts\n",
    "bar_plot(test_dir)"
   ]
  },
  {
   "cell_type": "markdown",
   "metadata": {
    "colab_type": "text",
    "id": "yZsrmkM7SHam"
   },
   "source": [
    "> Test data is unbalanced, in the same direction as training data, though not as severely."
   ]
  },
  {
   "cell_type": "markdown",
   "metadata": {
    "colab_type": "text",
    "id": "Kpok2WL_AlTz"
   },
   "source": [
    "### Preview Images"
   ]
  },
  {
   "cell_type": "code",
   "execution_count": 0,
   "metadata": {
    "colab": {},
    "colab_type": "code",
    "id": "KCFs0rvNCydg"
   },
   "outputs": [],
   "source": [
    "# instantiate variables for a training image from each class\n",
    "normal_example = os.listdir(f'{train_dir}/NORMAL')[33]\n",
    "pneumonia_example = os.listdir(f'{train_dir}/PNEUMONIA')[33]"
   ]
  },
  {
   "cell_type": "code",
   "execution_count": 0,
   "metadata": {
    "colab": {
     "base_uri": "https://localhost:8080/",
     "height": 281
    },
    "colab_type": "code",
    "id": "NL2jNj8aHMr5",
    "outputId": "84d3b694-8976-439f-b958-a4b051da90d2"
   },
   "outputs": [
    {
     "data": {
      "image/png": "[encoded data removed]",
      "text/plain": [
       "<Figure size 432x288 with 1 Axes>"
      ]
     },
     "metadata": {
      "needs_background": "light",
      "tags": []
     },
     "output_type": "display_data"
    }
   ],
   "source": [
    "# plot a normal class training image\n",
    "normal_img = plt.imread(f'{train_dir}/NORMAL/{normal_example}')\n",
    "plt.title(\"normal\")\n",
    "plt.imshow(normal_img)\n",
    "plt.show()"
   ]
  },
  {
   "cell_type": "code",
   "execution_count": 0,
   "metadata": {
    "colab": {
     "base_uri": "https://localhost:8080/",
     "height": 281
    },
    "colab_type": "code",
    "id": "14nKRI0XAicz",
    "outputId": "c2c0f52d-b007-4303-aa49-2072a260cbb1"
   },
   "outputs": [
    {
     "data": {
      "image/png": "[encoded data removed]",
      "text/plain": [
       "<Figure size 432x288 with 1 Axes>"
      ]
     },
     "metadata": {
      "needs_background": "light",
      "tags": []
     },
     "output_type": "display_data"
    }
   ],
   "source": [
    "# plot a pneumonia class training image\n",
    "pneumonia_img = plt.imread(f'{train_dir}/PNEUMONIA/{pneumonia_example}')\n",
    "plt.imshow(pneumonia_img)\n",
    "plt.title('pneumonia')\n",
    "plt.show()"
   ]
  },
  {
   "cell_type": "markdown",
   "metadata": {
    "colab_type": "text",
    "id": "QPWhdC6rNYFh"
   },
   "source": [
    "## Design Model 1\n",
    ">Using Keras:\n",
    "* Design a simple convolutional neural network (cnn)\n",
    "* We will 'flatten' to a send a single dimension array to the single - node output layer \n",
    "* Compile this model"
   ]
  },
  {
   "cell_type": "code",
   "execution_count": 0,
   "metadata": {
    "colab": {},
    "colab_type": "code",
    "id": "ErDDAA7UQj8u"
   },
   "outputs": [],
   "source": [
    "# importing necessary libraries\n",
    "# from keras import layers\n",
    "# from keras import models\n",
    "# from keras import optimizers"
   ]
  },
  {
   "cell_type": "code",
   "execution_count": 0,
   "metadata": {
    "colab": {},
    "colab_type": "code",
    "id": "BSQkIMwwQtLV"
   },
   "outputs": [],
   "source": [
    "# building the CNN model\n",
    "model = models.Sequential()\n",
    "\n",
    "model.add(layers.Conv2D(32, (3, 3), activation='relu',\n",
    "                        input_shape=(150, 150, 3)))\n",
    "model.add(layers.MaxPooling2D((2, 2)))\n",
    "\n",
    "model.add(layers.Conv2D(64, (3, 3), activation='relu'))\n",
    "\n",
    "model.add(layers.Flatten())\n",
    "model.add(layers.Dense(64, activation='relu'))\n",
    "model.add(layers.Dense(1, activation='sigmoid'))"
   ]
  },
  {
   "cell_type": "code",
   "execution_count": 0,
   "metadata": {
    "colab": {},
    "colab_type": "code",
    "id": "cEnlIrFuRT6_"
   },
   "outputs": [],
   "source": [
    "# compiling the model\n",
    "model.compile(loss='binary_crossentropy',\n",
    "              optimizer=optimizers.RMSprop(lr=1e-4),\n",
    "              metrics=['acc'])"
   ]
  },
  {
   "cell_type": "code",
   "execution_count": 0,
   "metadata": {
    "colab": {},
    "colab_type": "code",
    "id": "UHNTiySLVa9Q"
   },
   "outputs": [],
   "source": [
    "# importing keras modules\n",
    "# from keras.callbacks import EarlyStopping\n",
    "# from keras.callbacks import ModelCheckpoint\n",
    "# from keras.callbacks import ReduceLROnPlateau"
   ]
  },
  {
   "cell_type": "code",
   "execution_count": 0,
   "metadata": {
    "colab": {},
    "colab_type": "code",
    "id": "HlZuQYEacNED"
   },
   "outputs": [],
   "source": [
    "# creating a directory for saving models\n",
    "!mkdir ./models/"
   ]
  },
  {
   "cell_type": "markdown",
   "metadata": {
    "colab_type": "text",
    "id": "6DBvri4j4cBe"
   },
   "source": [
    "Create Checkpoints in the Model History"
   ]
  },
  {
   "cell_type": "markdown",
   "metadata": {
    "colab_type": "text",
    "id": "vXZ39itcXh_L"
   },
   "source": [
    ">Import keras modules: \n",
    "* to stop training when a monitored quantity has stopped improving\n",
    "* to save the model after every epoch\n",
    "* to reduce learning rate when a metric has stopped improving\n"
   ]
  },
  {
   "cell_type": "code",
   "execution_count": 0,
   "metadata": {
    "colab": {},
    "colab_type": "code",
    "id": "NbxJvCjgYCZU"
   },
   "outputs": [],
   "source": [
    "# creating callback checkpoints\n",
    "f_path = './models/'\n",
    "my_callbacks = [\n",
    "    # stopping if no improvement after 15 epochs\n",
    "    EarlyStopping(patience=15, verbose=1),\n",
    "    ## reducing learning rate if no improvement after 3 epochs\n",
    "    ReduceLROnPlateau(factor=0.1, patience=3, min_lr=0.001, verbose=1),\n",
    "    # saving the full model at each improvement\n",
    "    ModelCheckpoint(filepath = f_path + 'p3_model.h5', \n",
    "    verbose=1, save_best_only=True, save_weights_only=False) \n",
    "    ]"
   ]
  },
  {
   "cell_type": "code",
   "execution_count": 0,
   "metadata": {
    "colab": {
     "base_uri": "https://localhost:8080/",
     "height": 1000
    },
    "colab_type": "code",
    "id": "-LZi8FlkR0yU",
    "outputId": "5c1a4ecd-cb09-4993-9f12-c8dec118d42b"
   },
   "outputs": [
    {
     "name": "stdout",
     "output_type": "stream",
     "text": [
      "Epoch 1/82\n",
      "64/64 [==============================] - 24s 374ms/step - loss: 0.5158 - acc: 0.7812 - val_loss: 0.6653 - val_acc: 0.6250\n",
      "\n",
      "Epoch 00001: val_loss improved from inf to 0.66534, saving model to ./models/p3_model.h5\n",
      "Epoch 2/82\n",
      "64/64 [==============================] - 18s 281ms/step - loss: 0.2854 - acc: 0.8867 - val_loss: 0.6437 - val_acc: 0.6875\n",
      "\n",
      "Epoch 00002: val_loss improved from 0.66534 to 0.64368, saving model to ./models/p3_model.h5\n",
      "Epoch 3/82\n",
      "64/64 [==============================] - 17s 268ms/step - loss: 0.2031 - acc: 0.9155 - val_loss: 0.7755 - val_acc: 0.6250\n",
      "\n",
      "Epoch 00003: val_loss did not improve from 0.64368\n",
      "Epoch 4/82\n",
      "64/64 [==============================] - 18s 287ms/step - loss: 0.1544 - acc: 0.9448 - val_loss: 0.3623 - val_acc: 0.8750\n",
      "\n",
      "Epoch 00004: val_loss improved from 0.64368 to 0.36233, saving model to ./models/p3_model.h5\n",
      "Epoch 5/82\n",
      "64/64 [==============================] - 18s 275ms/step - loss: 0.1350 - acc: 0.9512 - val_loss: 0.8384 - val_acc: 0.6875\n",
      "\n",
      "Epoch 00005: val_loss did not improve from 0.36233\n",
      "Epoch 6/82\n",
      "64/64 [==============================] - 19s 299ms/step - loss: 0.1256 - acc: 0.9531 - val_loss: 0.2515 - val_acc: 0.9375\n",
      "\n",
      "Epoch 00006: val_loss improved from 0.36233 to 0.25154, saving model to ./models/p3_model.h5\n",
      "Epoch 7/82\n",
      "64/64 [==============================] - 18s 278ms/step - loss: 0.0970 - acc: 0.9648 - val_loss: 0.2510 - val_acc: 0.8750\n",
      "\n",
      "Epoch 00007: val_loss improved from 0.25154 to 0.25096, saving model to ./models/p3_model.h5\n",
      "Epoch 8/82\n",
      "64/64 [==============================] - 18s 278ms/step - loss: 0.0863 - acc: 0.9673 - val_loss: 0.3017 - val_acc: 0.8750\n",
      "\n",
      "Epoch 00008: val_loss did not improve from 0.25096\n",
      "Epoch 9/82\n",
      "64/64 [==============================] - 18s 277ms/step - loss: 0.0826 - acc: 0.9692 - val_loss: 0.9955 - val_acc: 0.6250\n",
      "\n",
      "Epoch 00009: val_loss did not improve from 0.25096\n",
      "Epoch 10/82\n",
      "64/64 [==============================] - 18s 276ms/step - loss: 0.0869 - acc: 0.9692 - val_loss: 0.5881 - val_acc: 0.7500\n",
      "\n",
      "Epoch 00010: val_loss did not improve from 0.25096\n",
      "Epoch 11/82\n",
      "64/64 [==============================] - 18s 284ms/step - loss: 0.0777 - acc: 0.9707 - val_loss: 0.5127 - val_acc: 0.7500\n",
      "\n",
      "Epoch 00011: val_loss did not improve from 0.25096\n",
      "Epoch 12/82\n",
      "64/64 [==============================] - 18s 279ms/step - loss: 0.0668 - acc: 0.9771 - val_loss: 0.5301 - val_acc: 0.7500\n",
      "\n",
      "Epoch 00012: val_loss did not improve from 0.25096\n",
      "Epoch 13/82\n",
      "64/64 [==============================] - 18s 280ms/step - loss: 0.0791 - acc: 0.9741 - val_loss: 0.7145 - val_acc: 0.6875\n",
      "\n",
      "Epoch 00013: val_loss did not improve from 0.25096\n",
      "Epoch 14/82\n",
      "64/64 [==============================] - 18s 281ms/step - loss: 0.0757 - acc: 0.9731 - val_loss: 0.2164 - val_acc: 0.8750\n",
      "\n",
      "Epoch 00014: val_loss improved from 0.25096 to 0.21645, saving model to ./models/p3_model.h5\n",
      "Epoch 15/82\n",
      "64/64 [==============================] - 18s 281ms/step - loss: 0.0572 - acc: 0.9814 - val_loss: 0.1386 - val_acc: 0.9375\n",
      "\n",
      "Epoch 00015: val_loss improved from 0.21645 to 0.13861, saving model to ./models/p3_model.h5\n",
      "Epoch 16/82\n",
      "64/64 [==============================] - 18s 284ms/step - loss: 0.0631 - acc: 0.9780 - val_loss: 0.9903 - val_acc: 0.5625\n",
      "\n",
      "Epoch 00016: val_loss did not improve from 0.13861\n",
      "Epoch 17/82\n",
      "64/64 [==============================] - 18s 276ms/step - loss: 0.0549 - acc: 0.9790 - val_loss: 0.4820 - val_acc: 0.7500\n",
      "\n",
      "Epoch 00017: val_loss did not improve from 0.13861\n",
      "Epoch 18/82\n",
      "64/64 [==============================] - 18s 277ms/step - loss: 0.0525 - acc: 0.9795 - val_loss: 0.2171 - val_acc: 0.8750\n",
      "\n",
      "Epoch 00018: val_loss did not improve from 0.13861\n",
      "Epoch 19/82\n",
      "64/64 [==============================] - 18s 280ms/step - loss: 0.0737 - acc: 0.9751 - val_loss: 0.2171 - val_acc: 0.8750\n",
      "\n",
      "Epoch 00019: val_loss did not improve from 0.13861\n",
      "Epoch 20/82\n",
      "64/64 [==============================] - 18s 285ms/step - loss: 0.0411 - acc: 0.9863 - val_loss: 0.5201 - val_acc: 0.6875\n",
      "\n",
      "Epoch 00020: val_loss did not improve from 0.13861\n",
      "Epoch 21/82\n",
      "64/64 [==============================] - 18s 274ms/step - loss: 0.0416 - acc: 0.9863 - val_loss: 0.7397 - val_acc: 0.6250\n",
      "\n",
      "Epoch 00021: val_loss did not improve from 0.13861\n",
      "Epoch 22/82\n",
      "64/64 [==============================] - 18s 276ms/step - loss: 0.0431 - acc: 0.9873 - val_loss: 0.3721 - val_acc: 0.8750\n",
      "\n",
      "Epoch 00022: val_loss did not improve from 0.13861\n",
      "Epoch 23/82\n",
      "64/64 [==============================] - 18s 277ms/step - loss: 0.0486 - acc: 0.9829 - val_loss: 0.4451 - val_acc: 0.7500\n",
      "\n",
      "Epoch 00023: val_loss did not improve from 0.13861\n",
      "Epoch 24/82\n",
      "64/64 [==============================] - 18s 279ms/step - loss: 0.0419 - acc: 0.9878 - val_loss: 0.3247 - val_acc: 0.8125\n",
      "\n",
      "Epoch 00024: val_loss did not improve from 0.13861\n",
      "Epoch 25/82\n",
      "64/64 [==============================] - 18s 283ms/step - loss: 0.0407 - acc: 0.9888 - val_loss: 0.2306 - val_acc: 0.8750\n",
      "\n",
      "Epoch 00025: val_loss did not improve from 0.13861\n",
      "Epoch 26/82\n",
      "64/64 [==============================] - 18s 277ms/step - loss: 0.0302 - acc: 0.9878 - val_loss: 0.7547 - val_acc: 0.6250\n",
      "\n",
      "Epoch 00026: val_loss did not improve from 0.13861\n",
      "Epoch 27/82\n",
      "64/64 [==============================] - 18s 276ms/step - loss: 0.0379 - acc: 0.9873 - val_loss: 0.2609 - val_acc: 0.8750\n",
      "\n",
      "Epoch 00027: val_loss did not improve from 0.13861\n",
      "Epoch 28/82\n",
      "64/64 [==============================] - 18s 280ms/step - loss: 0.0386 - acc: 0.9863 - val_loss: 0.0720 - val_acc: 1.0000\n",
      "\n",
      "Epoch 00028: val_loss improved from 0.13861 to 0.07196, saving model to ./models/p3_model.h5\n",
      "Epoch 29/82\n",
      "64/64 [==============================] - 21s 328ms/step - loss: 0.0324 - acc: 0.9897 - val_loss: 0.9344 - val_acc: 0.6250\n",
      "\n",
      "Epoch 00029: val_loss did not improve from 0.07196\n",
      "Epoch 30/82\n",
      "64/64 [==============================] - 18s 277ms/step - loss: 0.0293 - acc: 0.9912 - val_loss: 1.0138 - val_acc: 0.6875\n",
      "\n",
      "Epoch 00030: val_loss did not improve from 0.07196\n",
      "Epoch 31/82\n",
      "64/64 [==============================] - 18s 279ms/step - loss: 0.0352 - acc: 0.9907 - val_loss: 0.2641 - val_acc: 0.8750\n",
      "\n",
      "Epoch 00031: val_loss did not improve from 0.07196\n",
      "Epoch 32/82\n",
      "64/64 [==============================] - 18s 284ms/step - loss: 0.0257 - acc: 0.9912 - val_loss: 0.4572 - val_acc: 0.8125\n",
      "\n",
      "Epoch 00032: val_loss did not improve from 0.07196\n",
      "Epoch 33/82\n",
      "64/64 [==============================] - 18s 274ms/step - loss: 0.0254 - acc: 0.9917 - val_loss: 0.3606 - val_acc: 0.8125\n",
      "\n",
      "Epoch 00033: val_loss did not improve from 0.07196\n",
      "Epoch 34/82\n",
      "64/64 [==============================] - 19s 296ms/step - loss: 0.0242 - acc: 0.9927 - val_loss: 0.0747 - val_acc: 1.0000\n",
      "\n",
      "Epoch 00034: val_loss did not improve from 0.07196\n",
      "Epoch 35/82\n",
      "64/64 [==============================] - 18s 282ms/step - loss: 0.0248 - acc: 0.9922 - val_loss: 0.0458 - val_acc: 1.0000\n",
      "\n",
      "Epoch 00035: val_loss improved from 0.07196 to 0.04583, saving model to ./models/p3_model.h5\n",
      "Epoch 36/82\n",
      "64/64 [==============================] - 18s 275ms/step - loss: 0.0235 - acc: 0.9922 - val_loss: 0.2603 - val_acc: 0.8750\n",
      "\n",
      "Epoch 00036: val_loss did not improve from 0.04583\n",
      "Epoch 37/82\n",
      "64/64 [==============================] - 18s 276ms/step - loss: 0.0179 - acc: 0.9941 - val_loss: 0.3327 - val_acc: 0.8750\n",
      "\n",
      "Epoch 00037: val_loss did not improve from 0.04583\n",
      "Epoch 38/82\n",
      "64/64 [==============================] - 18s 282ms/step - loss: 0.0196 - acc: 0.9946 - val_loss: 0.4996 - val_acc: 0.7500\n",
      "\n",
      "Epoch 00038: val_loss did not improve from 0.04583\n",
      "Epoch 39/82\n",
      "64/64 [==============================] - 18s 274ms/step - loss: 0.0180 - acc: 0.9932 - val_loss: 0.3526 - val_acc: 0.8750\n",
      "\n",
      "Epoch 00039: val_loss did not improve from 0.04583\n",
      "Epoch 40/82\n",
      "64/64 [==============================] - 18s 274ms/step - loss: 0.0171 - acc: 0.9937 - val_loss: 0.0661 - val_acc: 1.0000\n",
      "\n",
      "Epoch 00040: val_loss did not improve from 0.04583\n",
      "Epoch 41/82\n",
      "64/64 [==============================] - 18s 285ms/step - loss: 0.0218 - acc: 0.9946 - val_loss: 0.7531 - val_acc: 0.6250\n",
      "\n",
      "Epoch 00041: val_loss did not improve from 0.04583\n",
      "Epoch 42/82\n",
      "64/64 [==============================] - 18s 279ms/step - loss: 0.0141 - acc: 0.9976 - val_loss: 0.3250 - val_acc: 0.8750\n",
      "\n",
      "Epoch 00042: val_loss did not improve from 0.04583\n",
      "Epoch 43/82\n",
      "64/64 [==============================] - 18s 282ms/step - loss: 0.0247 - acc: 0.9922 - val_loss: 0.2996 - val_acc: 0.8750\n",
      "\n",
      "Epoch 00043: val_loss did not improve from 0.04583\n",
      "Epoch 44/82\n",
      "64/64 [==============================] - 17s 269ms/step - loss: 0.0120 - acc: 0.9976 - val_loss: 0.6919 - val_acc: 0.6250\n",
      "\n",
      "Epoch 00044: val_loss did not improve from 0.04583\n",
      "Epoch 45/82\n",
      "64/64 [==============================] - 18s 285ms/step - loss: 0.0169 - acc: 0.9941 - val_loss: 0.0834 - val_acc: 1.0000\n",
      "\n",
      "Epoch 00045: val_loss did not improve from 0.04583\n",
      "Epoch 46/82\n",
      "64/64 [==============================] - 18s 279ms/step - loss: 0.0141 - acc: 0.9971 - val_loss: 0.8845 - val_acc: 0.6250\n",
      "\n",
      "Epoch 00046: val_loss did not improve from 0.04583\n",
      "Epoch 47/82\n",
      "64/64 [==============================] - 18s 279ms/step - loss: 0.0088 - acc: 0.9976 - val_loss: 0.1870 - val_acc: 0.8750\n",
      "\n",
      "Epoch 00047: val_loss did not improve from 0.04583\n",
      "Epoch 48/82\n",
      "64/64 [==============================] - 18s 279ms/step - loss: 0.0141 - acc: 0.9961 - val_loss: 0.6209 - val_acc: 0.6875\n",
      "\n",
      "Epoch 00048: val_loss did not improve from 0.04583\n",
      "Epoch 49/82\n",
      "64/64 [==============================] - 19s 291ms/step - loss: 0.0094 - acc: 0.9971 - val_loss: 0.2713 - val_acc: 0.8125\n",
      "\n",
      "Epoch 00049: val_loss did not improve from 0.04583\n",
      "Epoch 50/82\n",
      "64/64 [==============================] - 18s 284ms/step - loss: 0.0137 - acc: 0.9956 - val_loss: 0.4368 - val_acc: 0.8125\n",
      "\n",
      "Epoch 00050: val_loss did not improve from 0.04583\n",
      "Epoch 00050: early stopping\n"
     ]
    }
   ],
   "source": [
    "# training and evaluating the model\n",
    "# using the callback in the `model.fit`\n",
    "history = model.fit_generator(train_generator,  \n",
    "                              # 32 steps for each of 163 epochs, for\n",
    "                              # 5216 training samples\n",
    "                              steps_per_epoch=64, \n",
    "                              epochs=82, \n",
    "                              validation_data=validation_generator, \n",
    "                              validation_steps=16, \n",
    "                              class_weight = 'auto',\n",
    "                              callbacks = my_callbacks)"
   ]
  },
  {
   "cell_type": "code",
   "execution_count": 0,
   "metadata": {
    "colab": {
     "base_uri": "https://localhost:8080/",
     "height": 52
    },
    "colab_type": "code",
    "id": "inSl6VrPd6L_",
    "outputId": "55d38794-275b-4fe9-d81f-4e0eacf0989f"
   },
   "outputs": [
    {
     "name": "stdout",
     "output_type": "stream",
     "text": [
      "val loss: 0.43680480122566223\n",
      "val acc: 0.8125\n"
     ]
    }
   ],
   "source": [
    "val_loss, val_acc = model.evaluate_generator(validation_generator)\n",
    "\n",
    "print('val loss:', val_loss)\n",
    "print('val acc:', val_acc)"
   ]
  },
  {
   "cell_type": "markdown",
   "metadata": {
    "colab_type": "text",
    "id": "LnTCaeJ_j8DL"
   },
   "source": [
    "The reported validation scores should be ~~those of our best~~~ model weignts."
   ]
  },
  {
   "cell_type": "markdown",
   "metadata": {
    "colab_type": "text",
    "id": "dmByc2lhc8U7"
   },
   "source": [
    "__Visualize Training Results__"
   ]
  },
  {
   "cell_type": "code",
   "execution_count": 0,
   "metadata": {
    "colab": {
     "base_uri": "https://localhost:8080/",
     "height": 544
    },
    "colab_type": "code",
    "id": "SeMmPbp0SyPy",
    "outputId": "1e279adb-b456-4a69-fc9d-d3054b3c5534"
   },
   "outputs": [
    {
     "data": {
      "image/png": "[encoded data removed]",
      "text/plain": [
       "<Figure size 432x288 with 1 Axes>"
      ]
     },
     "metadata": {
      "needs_background": "light",
      "tags": []
     },
     "output_type": "display_data"
    },
    {
     "data": {
      "image/png": "[encoded data removed]",
      "text/plain": [
       "<Figure size 432x288 with 1 Axes>"
      ]
     },
     "metadata": {
      "needs_background": "light",
      "tags": []
     },
     "output_type": "display_data"
    }
   ],
   "source": [
    "import matplotlib.pyplot as plt\n",
    "%matplotlib inline \n",
    "acc = history.history['acc']\n",
    "val_acc = history.history['val_acc']\n",
    "loss = history.history['loss']\n",
    "val_loss = history.history['val_loss']\n",
    "epochs = range(len(acc))\n",
    "plt.plot(epochs, acc, 'bo', label='Training acc')\n",
    "plt.plot(epochs, val_acc, 'b', label='Validation acc')\n",
    "plt.title('Training and validation accuracy along epochs')\n",
    "plt.legend()\n",
    "plt.figure()\n",
    "plt.plot(epochs, loss, 'bo', label='Training loss')\n",
    "plt.plot(epochs, val_loss, 'b', label='Validation loss')\n",
    "plt.title('Training and validation loss along epochs')\n",
    "plt.legend()\n",
    "plt.show()"
   ]
  },
  {
   "cell_type": "markdown",
   "metadata": {
    "colab_type": "text",
    "id": "KiVwVI2_YbjW"
   },
   "source": [
    "> The jagged validation loss and accuracy suggest that our model has room for improvement. Options can include making adjustments to any on or several parameters, including verifying __shuffling__ of the training data, increasing the batch size or steps per batch to ensure reasonable sampling from each class during training, __longer training time__ (more epochs)."
   ]
  },
  {
   "cell_type": "code",
   "execution_count": 0,
   "metadata": {
    "colab": {},
    "colab_type": "code",
    "id": "v5aRSpvcMiI-"
   },
   "outputs": [],
   "source": [
    "# download the model locally\n",
    "files.download('./models/p3_model.h5')"
   ]
  },
  {
   "cell_type": "markdown",
   "metadata": {
    "colab_type": "text",
    "id": "BYmSJezCMwDB"
   },
   "source": [
    "\n",
    "\n",
    "> We'll reload the saved model.\n",
    "* The best model was saved via callbacks to 'p3_model.h5'.\n",
    "* We can evaluate it against our validation generator, to verify that the score reported above was based on our best model weights.\n",
    "\n"
   ]
  },
  {
   "cell_type": "code",
   "execution_count": 0,
   "metadata": {
    "colab": {
     "base_uri": "https://localhost:8080/",
     "height": 372
    },
    "colab_type": "code",
    "id": "YhKNQ3EAmPk8",
    "outputId": "29474634-bb94-4328-e6c4-4c9b140afc21"
   },
   "outputs": [
    {
     "name": "stdout",
     "output_type": "stream",
     "text": [
      "Model: \"sequential_1\"\n",
      "_________________________________________________________________\n",
      "Layer (type)                 Output Shape              Param #   \n",
      "=================================================================\n",
      "conv2d_1 (Conv2D)            (None, 148, 148, 32)      896       \n",
      "_________________________________________________________________\n",
      "max_pooling2d_1 (MaxPooling2 (None, 74, 74, 32)        0         \n",
      "_________________________________________________________________\n",
      "conv2d_2 (Conv2D)            (None, 72, 72, 64)        18496     \n",
      "_________________________________________________________________\n",
      "flatten_1 (Flatten)          (None, 331776)            0         \n",
      "_________________________________________________________________\n",
      "dense_1 (Dense)              (None, 64)                21233728  \n",
      "_________________________________________________________________\n",
      "dense_2 (Dense)              (None, 1)                 65        \n",
      "=================================================================\n",
      "Total params: 21,253,185\n",
      "Trainable params: 21,253,185\n",
      "Non-trainable params: 0\n",
      "_________________________________________________________________\n"
     ]
    }
   ],
   "source": [
    "from keras.models import load_model\n",
    " \n",
    "# loading model\n",
    "model = load_model('./models/p3_model.h5')\n",
    "\n",
    "# viewing a textual representation of the model's architecture\n",
    "model.summary()"
   ]
  },
  {
   "cell_type": "markdown",
   "metadata": {
    "colab_type": "text",
    "id": "rzx0QKQji6Xr"
   },
   "source": [
    "Run the saved model on validation data to see if we approximate the validation scores reported above."
   ]
  },
  {
   "cell_type": "code",
   "execution_count": 0,
   "metadata": {
    "colab": {
     "base_uri": "https://localhost:8080/",
     "height": 52
    },
    "colab_type": "code",
    "id": "ZQroKW-ujR2C",
    "outputId": "0a83d50c-9225-43dd-c5ae-bb42f8427622"
   },
   "outputs": [
    {
     "name": "stdout",
     "output_type": "stream",
     "text": [
      "val loss: 0.045831404626369476\n",
      "val acc: 1.0\n"
     ]
    }
   ],
   "source": [
    "val_loss, val_acc = model.evaluate_generator(validation_generator)\n",
    "\n",
    "print('val loss:', val_loss)\n",
    "print('val acc:', val_acc)"
   ]
  },
  {
   "cell_type": "markdown",
   "metadata": {
    "colab_type": "text",
    "id": "MvvIPIOvjsrR"
   },
   "source": [
    "* Loss and accuracy scores are each higher, for the test set.\n",
    "* We can evaluate the model on test data."
   ]
  },
  {
   "cell_type": "code",
   "execution_count": 0,
   "metadata": {
    "colab": {
     "base_uri": "https://localhost:8080/",
     "height": 70
    },
    "colab_type": "code",
    "id": "QllYrfvHTmGH",
    "outputId": "e82d975e-323c-490d-ef0d-7afc0b431296"
   },
   "outputs": [
    {
     "name": "stdout",
     "output_type": "stream",
     "text": [
      "Found 624 images belonging to 2 classes.\n",
      "test loss: 0.9870075583457947\n",
      "test acc: 0.8028846383094788\n"
     ]
    }
   ],
   "source": [
    "# running the test set in one batch\n",
    "test_generator = test_datagen.flow_from_directory(test_dir, \n",
    "                                                  target_size=(150, 150), \n",
    "                                                  batch_size=624, \n",
    "                                                  class_mode='binary')\n",
    "\n",
    "test_loss, test_acc = model.evaluate_generator(test_generator, steps=16)\n",
    "\n",
    "print('test loss:', test_loss)\n",
    "print('test acc:', test_acc)"
   ]
  },
  {
   "cell_type": "markdown",
   "metadata": {
    "colab_type": "text",
    "id": "Wsg66H0YViTP"
   },
   "source": [
    "> We see the following results from applying our model to the test set.\n",
    ">\n",
    ">|val loss: 0.045||test loss: 0.98|\n",
    ">|----|----|----|\n",
    ">|val acc: 1.0||test acc: 0.80|\n",
    "\n",
    ">\n",
    ">\n",
    "* Compared to results from the validation set, loss is 53 points higher.\n",
    "* Accuracy is 20 points lower, on the test set.\n",
    "\n",
    "Let's check a __classification report__."
   ]
  },
  {
   "cell_type": "code",
   "execution_count": 0,
   "metadata": {
    "colab": {},
    "colab_type": "code",
    "id": "n_KQisfFT6mI"
   },
   "outputs": [],
   "source": [
    "# instantiate variables for true and predicted arrays\n",
    "y_true=test_generator.classes\n",
    "\n",
    "y_pred = model.predict_generator(test_generator)\n",
    "y_pred = np.rint(y_pred)"
   ]
  },
  {
   "cell_type": "code",
   "execution_count": 0,
   "metadata": {
    "colab": {
     "base_uri": "https://localhost:8080/",
     "height": 176
    },
    "colab_type": "code",
    "id": "C8z2YI8iqdTk",
    "outputId": "c9bec1ba-8765-46c6-802b-6168edc32825"
   },
   "outputs": [
    {
     "name": "stdout",
     "output_type": "stream",
     "text": [
      "              precision    recall  f1-score   support\n",
      "\n",
      "           0       0.37      0.19      0.25       234\n",
      "           1       0.62      0.80      0.70       390\n",
      "\n",
      "    accuracy                           0.57       624\n",
      "   macro avg       0.49      0.50      0.48       624\n",
      "weighted avg       0.53      0.57      0.53       624\n",
      "\n"
     ]
    }
   ],
   "source": [
    "# from sklearn.metrics import confusion_matrix, classification_report\n",
    "# viewing classification report\n",
    "print(classification_report(y_true, y_pred, labels=[0,1]))"
   ]
  },
  {
   "cell_type": "markdown",
   "metadata": {
    "colab_type": "text",
    "id": "8DyMGYPZr_63"
   },
   "source": [
    "> We see a good recall score for pneumonia images, which is a useful indicator.\n",
    "* Recall indicates the ratio of positive predictions to the total number of actual positive samples, calculated as TP/(TP + FN).\n",
    "* We can gain additional clarity from visualizing a confusion matrix plot for our model results."
   ]
  },
  {
   "cell_type": "code",
   "execution_count": 0,
   "metadata": {
    "colab": {
     "base_uri": "https://localhost:8080/",
     "height": 418
    },
    "colab_type": "code",
    "id": "Jrxj6ugciKw2",
    "outputId": "6800678c-3abd-4656-a9fb-a9b09f1ba333"
   },
   "outputs": [
    {
     "name": "stdout",
     "output_type": "stream",
     "text": [
      "[[ 45 189]\n",
      " [ 78 312]]\n"
     ]
    },
    {
     "data": {
      "image/png": "[encoded data removed]",
      "text/plain": [
       "<Figure size 360x360 with 1 Axes>"
      ]
     },
     "metadata": {
      "needs_background": "light",
      "tags": []
     },
     "output_type": "display_data"
    }
   ],
   "source": [
    "labels = [0,1]\n",
    "CM = confusion_matrix(y_true, y_pred, labels)\n",
    "\n",
    "fig, ax = plot_confusion_matrix(conf_mat=CM, \n",
    "                                figsize=(5, 5), \n",
    "                                hide_ticks=False, \n",
    "                                cmap=plt.cm.Blues)\n",
    "\n",
    "ax.set_xticklabels([''] + labels) \n",
    "ax.set_yticklabels([''] + labels) \n",
    "print(CM) \n",
    "\n",
    "plt.title(\"\\nConfusion Matrix for model\", \n",
    "          fontsize=15)\n",
    "fig.savefig(\"model_1_CM\", dpi=100)\n",
    "plt.show()"
   ]
  },
  {
   "cell_type": "code",
   "execution_count": 0,
   "metadata": {
    "colab": {
     "base_uri": "https://localhost:8080/",
     "height": 52
    },
    "colab_type": "code",
    "id": "1eB2LoKOzjpH",
    "outputId": "978e9ae6-e4ac-47f1-d5a4-b4c414220345"
   },
   "outputs": [
    {
     "name": "stdout",
     "output_type": "stream",
     "text": [
      "Predicted 'NORMAL':  123\n",
      "Predicted 'PNEUMONIA': 501\n"
     ]
    }
   ],
   "source": [
    "# summing predictions\n",
    "print(\"Predicted 'NORMAL': \", sum(1 for i in y_pred if i == 0))\n",
    "print(\"Predicted 'PNEUMONIA':\", sum(1 for i in y_pred if i == 1))"
   ]
  },
  {
   "cell_type": "markdown",
   "metadata": {
    "colab_type": "text",
    "id": "eHKuaQhl2CWT"
   },
   "source": [
    "> `See analysis, below.`"
   ]
  },
  {
   "cell_type": "code",
   "execution_count": 0,
   "metadata": {
    "colab": {},
    "colab_type": "code",
    "id": "bMQxADGomPZn"
   },
   "outputs": [],
   "source": [
    "# categorizing results\n",
    "def perf_measure(y_true, y_pred):\n",
    "    \"\"\"\n",
    "    Takes 'actual' and 'predicted' labels and returns the number of\n",
    "    true negative, true positive, false negative, and false positive\n",
    "    predictions\n",
    "    \"\"\"\n",
    "    TN = CM[0][0]\n",
    "    TP = CM[1][1]\n",
    "    FN = CM[1][0]\n",
    "    FP = CM[0][1]\n",
    "\n",
    "#    print(f\"TN = {TN}\\nTP = {TP}\\nFN = {FN}\\nFP = {FP}\\n\")\n",
    "\n",
    "    return None"
   ]
  },
  {
   "cell_type": "code",
   "execution_count": 0,
   "metadata": {
    "colab": {
     "base_uri": "https://localhost:8080/",
     "height": 105
    },
    "colab_type": "code",
    "id": "O_t3JQ05mTfh",
    "outputId": "a6adf278-6f6b-4982-d71e-f8ef60a23a17"
   },
   "outputs": [
    {
     "name": "stdout",
     "output_type": "stream",
     "text": [
      "TN = 45\n",
      "TP = 312\n",
      "FN = 78\n",
      "FP = 189\n",
      "\n"
     ]
    }
   ],
   "source": [
    "#viewing performance measures\n",
    "perf_measure(y_true, y_pred)"
   ]
  },
  {
   "cell_type": "markdown",
   "metadata": {
    "colab_type": "text",
    "id": "FOShgme8ZhRm"
   },
   "source": [
    "This report encouraging, though not ideal:\n",
    ">* __T__rue __N__egatives (pred 0, true 0): the number of patients correctly predicted to not to have pneumonia: 45\n",
    "* __T__rue __P__ositives (pred 1, true 1): the number of patients correctly predicted to have pneumonia: 312\n",
    "* __F__alse __N__egatives (pred 0, true 1): the number of patients falsely predicted to not to have pneumonia: __78__\n",
    "* __F__alse __P__ositives (pred 1, true 0): the number of patients falsely predicted to have pneumonia: __189__\n",
    "\n",
    "False positives would be preferred over false negatives, in this type of case.\n",
    ">* Where false positives could unnecessarily result in additional testing, false negatives could result in failure to treat patients that require treatment.\n",
    "* Our false positive results far outweigh false negative results\n",
    "* Now, our target is a model that achieves lower error, overall."
   ]
  },
  {
   "cell_type": "markdown",
   "metadata": {
    "colab_type": "text",
    "id": "qJUWYU2ZmwES"
   },
   "source": [
    "### * Tuning Hyperperameters\n",
    "\n",
    "\n",
    "__Data Generation__\n",
    "> There are a number of approaches we can take to make our data more 'generalizeable', so that we optimize its ability to perfom well with new, unseen data.\n",
    "\n",
    "Let's run a few things up the flagpole."
   ]
  },
  {
   "cell_type": "code",
   "execution_count": 0,
   "metadata": {
    "colab": {
     "base_uri": "https://localhost:8080/",
     "height": 52
    },
    "colab_type": "code",
    "id": "Z5tL4QSMm1vy",
    "outputId": "0695eba4-530b-4b41-ea39-aed1362ab1f2"
   },
   "outputs": [
    {
     "name": "stdout",
     "output_type": "stream",
     "text": [
      "Found 5216 images belonging to 2 classes.\n",
      "Found 16 images belonging to 2 classes.\n"
     ]
    }
   ],
   "source": [
    "# instantiating a datagen to slightly transform images within\n",
    "# specified ranges\n",
    "train_datagen = ImageDataGenerator(rotation_range=20, \n",
    "                                   width_shift_range=0.15, \n",
    "                                   height_shift_range=0.2, \n",
    "                                   shear_range=0.15, \n",
    "                                   zoom_range=0.2, \n",
    "                                   horizontal_flip=False, #\n",
    "                                   fill_mode='nearest')\n",
    "\n",
    "# generating transformed training data on - the - fly\n",
    "# transformations may slow the fit process\n",
    "train_generator = train_datagen.flow_from_directory(\n",
    "        # using the same hyperparameters as the first model\n",
    "        train_dir, \n",
    "        shuffle=True, \n",
    "        # All images will be resized to 150x150\n",
    "        target_size=(150, 150),\n",
    "        batch_size=652,\n",
    "        # Since we use binary_crossentropy loss, we need binary labels\n",
    "        class_mode='binary')\n",
    "\n",
    "# we don't need to make adjustments to the final test set, but we can\n",
    "# use a datagen to scale validation data\n",
    "test_datagen = ImageDataGenerator(rescale=1./255)\n",
    "\n",
    "# transforming only image size, for validation data\n",
    "validation_generator = test_datagen.flow_from_directory(val_dir, \n",
    "                                    target_size=(150, 150), \n",
    "                                    batch_size=8,  # half the sample\n",
    "                                    class_mode='binary')\n",
    "\n"
   ]
  },
  {
   "cell_type": "markdown",
   "metadata": {
    "colab_type": "text",
    "id": "e1O_POUKoxqA"
   },
   "source": [
    "## Augmented `model_b`"
   ]
  },
  {
   "cell_type": "code",
   "execution_count": 0,
   "metadata": {
    "colab": {
     "base_uri": "https://localhost:8080/",
     "height": 34
    },
    "colab_type": "code",
    "id": "-RXf5Dd8mKlZ",
    "outputId": "4af64c14-d575-42ff-dbfc-d35040e26a82"
   },
   "outputs": [
    {
     "name": "stdout",
     "output_type": "stream",
     "text": [
      "(150, 150, 3)\n"
     ]
    }
   ],
   "source": [
    "## # build on the first model to create `model_b`\n",
    "input_shape = (150, 150, 3)\n",
    "print(input_shape)\n",
    "\n",
    "model_b = models.Sequential()\n",
    "model_b.add(layers.Conv2D(32, (2, 2), activation='relu', \n",
    "                        input_shape=input_shape))\n",
    "model_b.add(layers.MaxPooling2D((2, 2)))\n",
    "\n",
    "model_b.add(layers.Conv2D(64, (3, 3), activation='relu'))\n",
    "# adding a pooling layer\n",
    "model_b.add(layers.MaxPooling2D((2, 2)))\n",
    "\n",
    "# increasing model depth\n",
    "model_b.add(layers.Conv2D(128, (3, 3), activation='relu'))\n",
    "model_b.add(layers.MaxPooling2D((2, 2)))\n",
    "\n",
    "model_b.add(layers.Flatten())\n",
    "model_b.add(layers.Dense(64, activation='relu'))\n",
    "model_b.add(layers.Dense(1, activation='sigmoid'))"
   ]
  },
  {
   "cell_type": "markdown",
   "metadata": {
    "colab_type": "text",
    "id": "bDuuQHz2Pig4"
   },
   "source": [
    "Compile `model_b`"
   ]
  },
  {
   "cell_type": "code",
   "execution_count": 0,
   "metadata": {
    "colab": {},
    "colab_type": "code",
    "id": "pTa8FfWPPjTM"
   },
   "outputs": [],
   "source": [
    "# compiling the model\n",
    "model_b.compile(loss='binary_crossentropy',\n",
    "              optimizer=optimizers.Adam(lr=1e-3),\n",
    "              metrics=['acc'])\n",
    "\n",
    "# adding callback functions\n",
    "f_path = './models/'\n",
    "\n",
    "my_callbacks = [\n",
    "    # stopping if no improvement after 20 epochs (+ 5)\n",
    "    EarlyStopping(patience=20, verbose=1),\n",
    "    ## reducing learning rate if no improvement after 3 epochs\n",
    "    ReduceLROnPlateau(factor=0.1, patience=3, min_lr=0.00001, verbose=1),\n",
    "    # saving the full model at each improvement\n",
    "    ModelCheckpoint(filepath = f_path + 'p3_model_a.h5', \n",
    "    verbose=1, save_best_only=True, save_weights_only=False) \n",
    "    ]\n"
   ]
  },
  {
   "cell_type": "markdown",
   "metadata": {
    "colab_type": "text",
    "id": "Rb2bJ8HLo3Jh"
   },
   "source": [
    "Fit `model_b`"
   ]
  },
  {
   "cell_type": "code",
   "execution_count": 0,
   "metadata": {
    "colab": {
     "base_uri": "https://localhost:8080/",
     "height": 1000
    },
    "colab_type": "code",
    "id": "5VKRqLlQHNE_",
    "outputId": "d41304b1-4ffb-4de7-8259-1036980b9589"
   },
   "outputs": [
    {
     "name": "stdout",
     "output_type": "stream",
     "text": [
      "Epoch 1/326\n",
      "16/16 [==============================] - 132s 8s/step - loss: 48.5413 - acc: 0.6777 - val_loss: 0.6939 - val_acc: 0.5000\n",
      "\n",
      "Epoch 00001: val_loss improved from inf to 0.69385, saving model to ./models/p3_model_a.h5\n",
      "Epoch 2/326\n",
      "16/16 [==============================] - 129s 8s/step - loss: 0.5295 - acc: 0.7429 - val_loss: 0.6913 - val_acc: 0.5000\n",
      "\n",
      "Epoch 00002: val_loss improved from 0.69385 to 0.69126, saving model to ./models/p3_model_a.h5\n",
      "Epoch 3/326\n",
      "16/16 [==============================] - 129s 8s/step - loss: 0.4348 - acc: 0.7429 - val_loss: 0.6907 - val_acc: 0.5000\n",
      "\n",
      "Epoch 00003: val_loss improved from 0.69126 to 0.69074, saving model to ./models/p3_model_a.h5\n",
      "Epoch 4/326\n",
      "16/16 [==============================] - 130s 8s/step - loss: 0.3699 - acc: 0.7429 - val_loss: 0.6923 - val_acc: 0.5000\n",
      "\n",
      "Epoch 00004: val_loss did not improve from 0.69074\n",
      "Epoch 5/326\n",
      "16/16 [==============================] - 130s 8s/step - loss: 0.3889 - acc: 0.8223 - val_loss: 0.6915 - val_acc: 0.8125\n",
      "\n",
      "Epoch 00005: val_loss did not improve from 0.69074\n",
      "Epoch 6/326\n",
      "16/16 [==============================] - 130s 8s/step - loss: 0.3442 - acc: 0.8560 - val_loss: 0.6882 - val_acc: 0.7500\n",
      "\n",
      "Epoch 00006: val_loss improved from 0.69074 to 0.68817, saving model to ./models/p3_model_a.h5\n",
      "Epoch 7/326\n",
      "16/16 [==============================] - 130s 8s/step - loss: 0.3297 - acc: 0.8712 - val_loss: 0.6884 - val_acc: 0.6875\n",
      "\n",
      "Epoch 00007: val_loss did not improve from 0.68817\n",
      "Epoch 8/326\n",
      "16/16 [==============================] - 130s 8s/step - loss: 0.3175 - acc: 0.8783 - val_loss: 0.6897 - val_acc: 0.7500\n",
      "\n",
      "Epoch 00008: val_loss did not improve from 0.68817\n",
      "Epoch 9/326\n",
      "16/16 [==============================] - 130s 8s/step - loss: 0.3304 - acc: 0.8738 - val_loss: 0.6898 - val_acc: 0.6875\n",
      "\n",
      "Epoch 00009: ReduceLROnPlateau reducing learning rate to 0.00010000000474974513.\n",
      "\n",
      "Epoch 00009: val_loss did not improve from 0.68817\n",
      "Epoch 10/326\n",
      "16/16 [==============================] - 130s 8s/step - loss: 0.3097 - acc: 0.8865 - val_loss: 0.6904 - val_acc: 0.6875\n",
      "\n",
      "Epoch 00010: val_loss did not improve from 0.68817\n",
      "Epoch 11/326\n",
      "16/16 [==============================] - 130s 8s/step - loss: 0.3095 - acc: 0.8881 - val_loss: 0.6909 - val_acc: 0.7500\n",
      "\n",
      "Epoch 00011: val_loss did not improve from 0.68817\n",
      "Epoch 12/326\n",
      "16/16 [==============================] - 131s 8s/step - loss: 0.3007 - acc: 0.8946 - val_loss: 0.6890 - val_acc: 0.6875\n",
      "\n",
      "Epoch 00012: ReduceLROnPlateau reducing learning rate to 1.0000000474974514e-05.\n",
      "\n",
      "Epoch 00012: val_loss did not improve from 0.68817\n",
      "Epoch 13/326\n",
      "16/16 [==============================] - 131s 8s/step - loss: 0.2974 - acc: 0.8980 - val_loss: 0.6891 - val_acc: 0.6875\n",
      "\n",
      "Epoch 00013: val_loss did not improve from 0.68817\n",
      "Epoch 14/326\n",
      "16/16 [==============================] - 131s 8s/step - loss: 0.3009 - acc: 0.8948 - val_loss: 0.6894 - val_acc: 0.6875\n",
      "\n",
      "Epoch 00014: val_loss did not improve from 0.68817\n",
      "Epoch 15/326\n",
      "16/16 [==============================] - 132s 8s/step - loss: 0.3008 - acc: 0.8931 - val_loss: 0.6918 - val_acc: 0.6875\n",
      "\n",
      "Epoch 00015: ReduceLROnPlateau reducing learning rate to 1e-05.\n",
      "\n",
      "Epoch 00015: val_loss did not improve from 0.68817\n",
      "Epoch 16/326\n",
      "16/16 [==============================] - 132s 8s/step - loss: 0.3024 - acc: 0.8954 - val_loss: 0.6859 - val_acc: 0.6875\n",
      "\n",
      "Epoch 00016: val_loss improved from 0.68817 to 0.68591, saving model to ./models/p3_model_a.h5\n",
      "Epoch 17/326\n",
      "16/16 [==============================] - 132s 8s/step - loss: 0.3016 - acc: 0.8941 - val_loss: 0.6862 - val_acc: 0.6875\n",
      "\n",
      "Epoch 00017: val_loss did not improve from 0.68591\n",
      "Epoch 18/326\n",
      "16/16 [==============================] - 132s 8s/step - loss: 0.2949 - acc: 0.8985 - val_loss: 0.6880 - val_acc: 0.6875\n",
      "\n",
      "Epoch 00018: val_loss did not improve from 0.68591\n",
      "Epoch 19/326\n",
      "16/16 [==============================] - 133s 8s/step - loss: 0.2961 - acc: 0.8997 - val_loss: 0.6890 - val_acc: 0.6875\n",
      "\n",
      "Epoch 00019: val_loss did not improve from 0.68591\n",
      "Epoch 20/326\n",
      "16/16 [==============================] - 133s 8s/step - loss: 0.2955 - acc: 0.8993 - val_loss: 0.6902 - val_acc: 0.6875\n",
      "\n",
      "Epoch 00020: val_loss did not improve from 0.68591\n",
      "Epoch 21/326\n",
      "16/16 [==============================] - 132s 8s/step - loss: 0.2960 - acc: 0.8998 - val_loss: 0.6898 - val_acc: 0.7500\n",
      "\n",
      "Epoch 00021: val_loss did not improve from 0.68591\n",
      "Epoch 22/326\n",
      "16/16 [==============================] - 132s 8s/step - loss: 0.2956 - acc: 0.9002 - val_loss: 0.6890 - val_acc: 0.6875\n",
      "\n",
      "Epoch 00022: val_loss did not improve from 0.68591\n",
      "Epoch 23/326\n",
      "16/16 [==============================] - 133s 8s/step - loss: 0.2924 - acc: 0.9034 - val_loss: 0.6901 - val_acc: 0.6875\n",
      "\n",
      "Epoch 00023: val_loss did not improve from 0.68591\n",
      "Epoch 24/326\n",
      "16/16 [==============================] - 132s 8s/step - loss: 0.2957 - acc: 0.8990 - val_loss: 0.6901 - val_acc: 0.6250\n",
      "\n",
      "Epoch 00024: val_loss did not improve from 0.68591\n",
      "Epoch 25/326\n",
      "16/16 [==============================] - 132s 8s/step - loss: 0.2925 - acc: 0.8990 - val_loss: 0.6922 - val_acc: 0.6250\n",
      "\n",
      "Epoch 00025: val_loss did not improve from 0.68591\n",
      "Epoch 26/326\n",
      "16/16 [==============================] - 132s 8s/step - loss: 0.2893 - acc: 0.9056 - val_loss: 0.6892 - val_acc: 0.6250\n",
      "\n",
      "Epoch 00026: val_loss did not improve from 0.68591\n",
      "Epoch 27/326\n",
      "16/16 [==============================] - 131s 8s/step - loss: 0.2957 - acc: 0.9001 - val_loss: 0.6865 - val_acc: 0.6250\n",
      "\n",
      "Epoch 00027: val_loss did not improve from 0.68591\n",
      "Epoch 28/326\n",
      "16/16 [==============================] - 132s 8s/step - loss: 0.2892 - acc: 0.9059 - val_loss: 0.6898 - val_acc: 0.6875\n",
      "\n",
      "Epoch 00028: val_loss did not improve from 0.68591\n",
      "Epoch 29/326\n",
      "16/16 [==============================] - 132s 8s/step - loss: 0.2899 - acc: 0.9033 - val_loss: 0.6896 - val_acc: 0.6875\n",
      "\n",
      "Epoch 00029: val_loss did not improve from 0.68591\n",
      "Epoch 30/326\n",
      "16/16 [==============================] - 131s 8s/step - loss: 0.2954 - acc: 0.9028 - val_loss: 0.6896 - val_acc: 0.6875\n",
      "\n",
      "Epoch 00030: val_loss did not improve from 0.68591\n",
      "Epoch 31/326\n",
      "16/16 [==============================] - 133s 8s/step - loss: 0.2916 - acc: 0.9039 - val_loss: 0.6866 - val_acc: 0.6875\n",
      "\n",
      "Epoch 00031: val_loss did not improve from 0.68591\n",
      "Epoch 32/326\n",
      "16/16 [==============================] - 133s 8s/step - loss: 0.2920 - acc: 0.9051 - val_loss: 0.6923 - val_acc: 0.6875\n",
      "\n",
      "Epoch 00032: val_loss did not improve from 0.68591\n",
      "Epoch 33/326\n",
      "16/16 [==============================] - 132s 8s/step - loss: 0.2914 - acc: 0.9033 - val_loss: 0.6891 - val_acc: 0.6875\n",
      "\n",
      "Epoch 00033: val_loss did not improve from 0.68591\n",
      "Epoch 34/326\n",
      "16/16 [==============================] - 133s 8s/step - loss: 0.2883 - acc: 0.9090 - val_loss: 0.6913 - val_acc: 0.6875\n",
      "\n",
      "Epoch 00034: val_loss did not improve from 0.68591\n",
      "Epoch 35/326\n",
      "16/16 [==============================] - 133s 8s/step - loss: 0.2858 - acc: 0.9081 - val_loss: 0.6875 - val_acc: 0.6875\n",
      "\n",
      "Epoch 00035: val_loss did not improve from 0.68591\n",
      "Epoch 36/326\n",
      "16/16 [==============================] - 133s 8s/step - loss: 0.2879 - acc: 0.9053 - val_loss: 0.6880 - val_acc: 0.6875\n",
      "\n",
      "Epoch 00036: val_loss did not improve from 0.68591\n",
      "Epoch 00036: early stopping\n"
     ]
    }
   ],
   "source": [
    "# fitting a model to training set including transformations\n",
    "history_b = model_b.fit_generator(train_generator,  \n",
    "                              # 16 steps for each of 326 epochs, for\n",
    "                              # 5216 training samples\n",
    "                              steps_per_epoch=16,   # down from 32\n",
    "                              epochs=326,           # up from 163\n",
    "                              validation_data=validation_generator, \n",
    "                              validation_steps=16, \n",
    "                              class_weight = 'auto',\n",
    "                              callbacks = my_callbacks)"
   ]
  },
  {
   "cell_type": "code",
   "execution_count": 0,
   "metadata": {
    "colab": {
     "base_uri": "https://localhost:8080/",
     "height": 52
    },
    "colab_type": "code",
    "id": "BPIqco9yq_Dc",
    "outputId": "1dea5a7a-9e9b-41c5-f4d6-93fe842c3c43"
   },
   "outputs": [
    {
     "name": "stdout",
     "output_type": "stream",
     "text": [
      "val loss: 0.687382698059082\n",
      "val acc: 0.5\n"
     ]
    }
   ],
   "source": [
    "val_loss, val_acc = model_b.evaluate_generator(validation_generator)\n",
    "\n",
    "print('val loss:', val_loss)\n",
    "print('val acc:', val_acc)"
   ]
  },
  {
   "cell_type": "code",
   "execution_count": 0,
   "metadata": {
    "colab": {
     "base_uri": "https://localhost:8080/",
     "height": 544
    },
    "colab_type": "code",
    "id": "NFTpk3hzooq9",
    "outputId": "553a5c69-c413-4052-8d0e-123d8de6c034"
   },
   "outputs": [
    {
     "data": {
      "image/png": "[encoded data removed]",
      "text/plain": [
       "<Figure size 432x288 with 1 Axes>"
      ]
     },
     "metadata": {
      "needs_background": "light",
      "tags": []
     },
     "output_type": "display_data"
    },
    {
     "data": {
      "image/png": "[encoded data removed]",
      "text/plain": [
       "<Figure size 432x288 with 1 Axes>"
      ]
     },
     "metadata": {
      "needs_background": "light",
      "tags": []
     },
     "output_type": "display_data"
    }
   ],
   "source": [
    "acc = history_b.history['acc']\n",
    "val_acc = history_b.history['val_acc']\n",
    "loss = history_b.history['loss']\n",
    "val_loss = history_b.history['val_loss']\n",
    "epochs = range(len(acc))\n",
    "plt.plot(epochs, acc, 'bo', label='Training acc')\n",
    "plt.plot(epochs, val_acc, 'b', label='Validation acc')\n",
    "plt.title('Training and validation accuracy along epochs')\n",
    "plt.legend()\n",
    "plt.figure()\n",
    "plt.plot(epochs, loss, 'bo', label='Training loss')\n",
    "plt.plot(epochs, val_loss, 'b', label='Validation loss')\n",
    "plt.title('Training and validation loss along epochs')\n",
    "plt.legend()\n",
    "plt.show()"
   ]
  },
  {
   "cell_type": "markdown",
   "metadata": {
    "colab_type": "text",
    "id": "yLeTqNEmusoi"
   },
   "source": [
    "### Evaluate model_b on Test Data"
   ]
  },
  {
   "cell_type": "code",
   "execution_count": 0,
   "metadata": {
    "colab": {
     "base_uri": "https://localhost:8080/",
     "height": 70
    },
    "colab_type": "code",
    "id": "o5FBYm0RHAxo",
    "outputId": "c8411026-776e-477f-df21-529e260ae139"
   },
   "outputs": [
    {
     "name": "stdout",
     "output_type": "stream",
     "text": [
      "Found 624 images belonging to 2 classes.\n",
      "test loss: 0.6861081123352051\n",
      "test acc: 0.8389217853546143\n"
     ]
    }
   ],
   "source": [
    "# using 39 batches of 16 steps for 624 test samples\n",
    "test_generator = test_datagen.flow_from_directory(test_dir, \n",
    "                                                  target_size=(150, 150), \n",
    "                                                  batch_size=39, \n",
    "                                                  class_mode='binary')\n",
    "\n",
    "# using 39 steps to increase samples per batch\n",
    "test_loss, test_acc = model_b.evaluate_generator(test_generator, steps=39)\n",
    "\n",
    "print('test loss:', test_loss)\n",
    "print('test acc:', test_acc)"
   ]
  },
  {
   "cell_type": "markdown",
   "metadata": {
    "colab_type": "text",
    "id": "tHBz-zNB28GQ"
   },
   "source": [
    "> After viewing validation scores for the augmented model, I did not neccessarily expect to see improvement in test scores over our first model. But, here we are:\n",
    ">\n",
    ">|model test loss: 0.98||model_b test loss: 0.68|\n",
    ">|----|----|----|\n",
    ">|model test acc: 0.80||test acc: 0.84|"
   ]
  },
  {
   "cell_type": "markdown",
   "metadata": {
    "colab_type": "text",
    "id": "icM9DQg6VFK6"
   },
   "source": [
    "> `model_b` hit a plateau for accuracy at epoch 5 and validation loss did not improve after epoch 16.\n",
    "* Conventional wisdom prepared me to accept that there is not a lot, if any, benefit to changing numerous hyperperameters all at once. The approach is likely to not work, training can be much more expensive, and any change in results are difficult to interpret.\n",
    "* About half of our training time was wasted time\n",
    "* Without performing a resource - heavy gridsearch, it may be best to adjust only one or two things to determine how the adjustments benefit or harm model performance.\n",
    "\n",
    "Instead, we have achieved improvements in both loss and accuracy.\n",
    "> It may still be valuable to return to the original model and try:\n",
    "* changing only datagen transformations,\n",
    "* making adjustments to the optimizer used\n",
    "\n",
    "First, let's see how our performance measures have been affected."
   ]
  },
  {
   "cell_type": "code",
   "execution_count": 0,
   "metadata": {
    "colab": {},
    "colab_type": "code",
    "id": "enU6u3tv5LMk"
   },
   "outputs": [],
   "source": [
    "# instantiate variables for true and predicted arrays\n",
    "y_true=test_generator.classes\n",
    "\n",
    "y_pred = model_b.predict_generator(test_generator)\n",
    "y_pred = np.rint(y_pred)"
   ]
  },
  {
   "cell_type": "code",
   "execution_count": 0,
   "metadata": {
    "colab": {
     "base_uri": "https://localhost:8080/",
     "height": 418
    },
    "colab_type": "code",
    "id": "modBPO9p5LM-",
    "outputId": "08e2f6ff-3fc6-4077-a2c1-b462d3245f3c"
   },
   "outputs": [
    {
     "name": "stdout",
     "output_type": "stream",
     "text": [
      "[[ 61 173]\n",
      " [114 276]]\n"
     ]
    },
    {
     "data": {
      "image/png": "[encoded data removed]",
      "text/plain": [
       "<Figure size 360x360 with 1 Axes>"
      ]
     },
     "metadata": {
      "needs_background": "light",
      "tags": []
     },
     "output_type": "display_data"
    }
   ],
   "source": [
    "# plotting confusion matrix\n",
    "labels = [0,1]\n",
    "CM = confusion_matrix(y_true, y_pred, labels)\n",
    "\n",
    "fig, ax = plot_confusion_matrix(conf_mat=CM, \n",
    "                                figsize=(5, 5), \n",
    "                                hide_ticks=False, \n",
    "                                cmap=plt.cm.Blues)\n",
    "\n",
    "ax.set_xticklabels([''] + labels) \n",
    "ax.set_yticklabels([''] + labels) \n",
    "print(CM) \n",
    "\n",
    "plt.title(\"\\nConfusion Matrix for model_b\", \n",
    "          fontsize=15)\n",
    "fig.savefig(\"model_1_CM\", dpi=100)\n",
    "plt.show()"
   ]
  },
  {
   "cell_type": "code",
   "execution_count": 0,
   "metadata": {
    "colab": {
     "base_uri": "https://localhost:8080/",
     "height": 52
    },
    "colab_type": "code",
    "id": "AK7bSud55LNC",
    "outputId": "2959465c-79cc-423a-9fb9-6fe51e0db874"
   },
   "outputs": [
    {
     "name": "stdout",
     "output_type": "stream",
     "text": [
      "Predicted 'NORMAL':  175\n",
      "Predicted 'PNEUMONIA': 449\n"
     ]
    }
   ],
   "source": [
    "# summing predictions\n",
    "print(\"Predicted 'NORMAL': \", sum(1 for i in y_pred if i == 0))\n",
    "print(\"Predicted 'PNEUMONIA':\", sum(1 for i in y_pred if i == 1))"
   ]
  },
  {
   "cell_type": "markdown",
   "metadata": {
    "colab_type": "text",
    "id": "Qjx0OtLc5LNF"
   },
   "source": [
    "> `See analysis, below.`"
   ]
  },
  {
   "cell_type": "code",
   "execution_count": 0,
   "metadata": {
    "colab": {
     "base_uri": "https://localhost:8080/",
     "height": 105
    },
    "colab_type": "code",
    "id": "OWAhq7jH5LNJ",
    "outputId": "17279cbd-4db9-4c88-e5f5-659e0e1c2978"
   },
   "outputs": [
    {
     "name": "stdout",
     "output_type": "stream",
     "text": [
      "TN = 61\n",
      "TP = 276\n",
      "FN = 114\n",
      "FP = 173\n",
      "\n"
     ]
    }
   ],
   "source": [
    "#viewing performance measures\n",
    "perf_measure(y_true, y_pred)"
   ]
  },
  {
   "cell_type": "markdown",
   "metadata": {
    "colab_type": "text",
    "id": "bqxO94iT6qvx"
   },
   "source": [
    "`model_b` actually has __more__ false negatives than the first model. In that regard, it is not an improvement. Ideally, we would see improvement in our recall score Recall = TP/(TP + FN)"
   ]
  },
  {
   "cell_type": "markdown",
   "metadata": {
    "colab_type": "text",
    "id": "Ykqq62eqJEgV"
   },
   "source": [
    "## `model_c`"
   ]
  },
  {
   "cell_type": "markdown",
   "metadata": {
    "colab_type": "text",
    "id": "sJdxR3coVJDJ"
   },
   "source": [
    "\n",
    "__Change One Thing__, only.\n",
    "\n",
    "> So, let's go ahead and add only the transformations to the first model."
   ]
  },
  {
   "cell_type": "code",
   "execution_count": 0,
   "metadata": {
    "colab": {
     "base_uri": "https://localhost:8080/",
     "height": 52
    },
    "colab_type": "code",
    "id": "CErEOQ2tbNyr",
    "outputId": "b8c14409-2e0c-4100-e44f-48b4e04c43ac"
   },
   "outputs": [
    {
     "name": "stdout",
     "output_type": "stream",
     "text": [
      "Found 5216 images belonging to 2 classes.\n",
      "Found 16 images belonging to 2 classes.\n"
     ]
    }
   ],
   "source": [
    "# instantiating a datagen to slightly transform images within\n",
    "# specified ranges (including the original rescaling)\n",
    "train_datagen = ImageDataGenerator(rescale=1./255, \n",
    "                                   rotation_range=20, \n",
    "                                   width_shift_range=0.15, \n",
    "                                   height_shift_range=0.2, \n",
    "                                   shear_range=0.15, \n",
    "                                   zoom_range=0.2, \n",
    "                                   horizontal_flip=False, #\n",
    "                                   fill_mode='nearest')\n",
    "\n",
    "# re - instantiating our original training and validation generators\n",
    "# to include the new datagen transformations\n",
    "train_generator = train_datagen.flow_from_directory(\n",
    "        # This is the target directory\n",
    "        train_dir, \n",
    "        shuffle=True, \n",
    "        # All images will be resized to 150x150\n",
    "        target_size=(150, 150),\n",
    "        batch_size=32,\n",
    "        # Since we use binary_crossentropy loss, we need binary labels\n",
    "        class_mode='binary')\n",
    "\n",
    "test_datagen = ImageDataGenerator(rescale=1./255)  # original rescaling\n",
    "\n",
    "validation_generator = test_datagen.flow_from_directory(val_dir,\n",
    "                                                        target_size=(150, 150),\n",
    "                                                        batch_size=20,\n",
    "                                                        class_mode='binary')"
   ]
  },
  {
   "cell_type": "code",
   "execution_count": 0,
   "metadata": {
    "colab": {},
    "colab_type": "code",
    "id": "QG0qygBNaUrQ"
   },
   "outputs": [],
   "source": [
    "# building the transformed training data `model_c`\n",
    "input_shape = (150, 150, 3)\n",
    "\n",
    "# using the original model architecture\n",
    "model_c = models.Sequential()\n",
    "\n",
    "model_c.add(layers.Conv2D(32, (3, 3), activation='relu',\n",
    "                        input_shape=input_shape))\n",
    "model_c.add(layers.MaxPooling2D((2, 2)))\n",
    "\n",
    "model_c.add(layers.Conv2D(64, (3, 3), activation='relu'))\n",
    "\n",
    "model_c.add(layers.Flatten())\n",
    "model_c.add(layers.Dense(64, activation='relu'))\n",
    "model_c.add(layers.Dense(1, activation='sigmoid'))"
   ]
  },
  {
   "cell_type": "code",
   "execution_count": 0,
   "metadata": {
    "colab": {},
    "colab_type": "code",
    "id": "bS03gqg4aUrW"
   },
   "outputs": [],
   "source": [
    "# compiling the model\n",
    "model_c.compile(loss='binary_crossentropy', \n",
    "                # we can increase the learning rate and let it reduce\n",
    "                # via the ReduceLROnPlateau callback function\n",
    "              optimizer=optimizers.RMSprop(lr=1e-3),\n",
    "              metrics=['acc'])"
   ]
  },
  {
   "cell_type": "code",
   "execution_count": 0,
   "metadata": {
    "colab": {},
    "colab_type": "code",
    "id": "dx2ua6iiaUrZ"
   },
   "outputs": [],
   "source": [
    "# creating callback checkpoints\n",
    "f_path = './models/'\n",
    "my_callbacks = [\n",
    "    # stopping if no improvement after 15 epochs\n",
    "    EarlyStopping(patience=15, verbose=1),\n",
    "    # reducing learning rate if no improvement after 3 epochs\n",
    "    # correcting the min_lr, to ensure it is lower than the start\n",
    "    ReduceLROnPlateau(factor=0.1, patience=3, min_lr=0.00001, verbose=1),\n",
    "    # saving the full model at each improvement\n",
    "    ModelCheckpoint(filepath = f_path + 'p3_model_c.h5', \n",
    "    verbose=1, save_best_only=True, save_weights_only=False) \n",
    "    ]"
   ]
  },
  {
   "cell_type": "code",
   "execution_count": 0,
   "metadata": {
    "colab": {
     "base_uri": "https://localhost:8080/",
     "height": 1000
    },
    "colab_type": "code",
    "id": "Hj-HUtCoaUrb",
    "outputId": "89fd659f-0086-423e-d866-133d30cdcbc3"
   },
   "outputs": [
    {
     "name": "stdout",
     "output_type": "stream",
     "text": [
      "Epoch 1/163\n",
      "32/32 [==============================] - 16s 496ms/step - loss: 1.5514 - acc: 0.6680 - val_loss: 0.7743 - val_acc: 0.5000\n",
      "\n",
      "Epoch 00001: val_loss improved from inf to 0.77429, saving model to ./models/p3_model_c.h5\n",
      "Epoch 2/163\n",
      "32/32 [==============================] - 13s 408ms/step - loss: 0.7302 - acc: 0.7080 - val_loss: 0.9398 - val_acc: 0.5000\n",
      "\n",
      "Epoch 00002: val_loss did not improve from 0.77429\n",
      "Epoch 3/163\n",
      "32/32 [==============================] - 13s 417ms/step - loss: 0.5410 - acc: 0.7334 - val_loss: 1.2628 - val_acc: 0.5000\n",
      "\n",
      "Epoch 00003: val_loss did not improve from 0.77429\n",
      "Epoch 4/163\n",
      "32/32 [==============================] - 13s 401ms/step - loss: 0.5189 - acc: 0.7471 - val_loss: 0.9128 - val_acc: 0.5625\n",
      "\n",
      "Epoch 00004: ReduceLROnPlateau reducing learning rate to 0.00010000000474974513.\n",
      "\n",
      "Epoch 00004: val_loss did not improve from 0.77429\n",
      "Epoch 5/163\n",
      "32/32 [==============================] - 13s 401ms/step - loss: 0.3531 - acc: 0.8379 - val_loss: 0.8446 - val_acc: 0.6250\n",
      "\n",
      "Epoch 00005: val_loss did not improve from 0.77429\n",
      "Epoch 6/163\n",
      "32/32 [==============================] - 15s 457ms/step - loss: 0.2995 - acc: 0.8721 - val_loss: 0.4416 - val_acc: 0.8125\n",
      "\n",
      "Epoch 00006: val_loss improved from 0.77429 to 0.44158, saving model to ./models/p3_model_c.h5\n",
      "Epoch 7/163\n",
      "32/32 [==============================] - 13s 402ms/step - loss: 0.3108 - acc: 0.8613 - val_loss: 0.6246 - val_acc: 0.7500\n",
      "\n",
      "Epoch 00007: val_loss did not improve from 0.44158\n",
      "Epoch 8/163\n",
      "32/32 [==============================] - 13s 410ms/step - loss: 0.3380 - acc: 0.8477 - val_loss: 0.8301 - val_acc: 0.6250\n",
      "\n",
      "Epoch 00008: val_loss did not improve from 0.44158\n",
      "Epoch 9/163\n",
      "32/32 [==============================] - 13s 414ms/step - loss: 0.2718 - acc: 0.8896 - val_loss: 0.5080 - val_acc: 0.7500\n",
      "\n",
      "Epoch 00009: ReduceLROnPlateau reducing learning rate to 1.0000000474974514e-05.\n",
      "\n",
      "Epoch 00009: val_loss did not improve from 0.44158\n",
      "Epoch 10/163\n",
      "32/32 [==============================] - 13s 407ms/step - loss: 0.2859 - acc: 0.8799 - val_loss: 0.6296 - val_acc: 0.8125\n",
      "\n",
      "Epoch 00010: val_loss did not improve from 0.44158\n",
      "Epoch 11/163\n",
      "32/32 [==============================] - 14s 423ms/step - loss: 0.2971 - acc: 0.8691 - val_loss: 0.6217 - val_acc: 0.8125\n",
      "\n",
      "Epoch 00011: val_loss did not improve from 0.44158\n",
      "Epoch 12/163\n",
      "32/32 [==============================] - 13s 401ms/step - loss: 0.2361 - acc: 0.9033 - val_loss: 0.6232 - val_acc: 0.8125\n",
      "\n",
      "Epoch 00012: ReduceLROnPlateau reducing learning rate to 1e-05.\n",
      "\n",
      "Epoch 00012: val_loss did not improve from 0.44158\n",
      "Epoch 13/163\n",
      "32/32 [==============================] - 13s 404ms/step - loss: 0.2847 - acc: 0.8818 - val_loss: 0.6835 - val_acc: 0.7500\n",
      "\n",
      "Epoch 00013: val_loss did not improve from 0.44158\n",
      "Epoch 14/163\n",
      "32/32 [==============================] - 13s 410ms/step - loss: 0.2337 - acc: 0.9072 - val_loss: 0.7183 - val_acc: 0.6875\n",
      "\n",
      "Epoch 00014: val_loss did not improve from 0.44158\n",
      "Epoch 15/163\n",
      "32/32 [==============================] - 13s 420ms/step - loss: 0.2599 - acc: 0.8867 - val_loss: 0.6086 - val_acc: 0.8125\n",
      "\n",
      "Epoch 00015: val_loss did not improve from 0.44158\n",
      "Epoch 16/163\n",
      "32/32 [==============================] - 13s 401ms/step - loss: 0.2376 - acc: 0.8896 - val_loss: 0.7074 - val_acc: 0.7500\n",
      "\n",
      "Epoch 00016: val_loss did not improve from 0.44158\n",
      "Epoch 17/163\n",
      "32/32 [==============================] - 13s 408ms/step - loss: 0.2670 - acc: 0.8916 - val_loss: 0.6004 - val_acc: 0.8125\n",
      "\n",
      "Epoch 00017: val_loss did not improve from 0.44158\n",
      "Epoch 18/163\n",
      "32/32 [==============================] - 13s 407ms/step - loss: 0.2950 - acc: 0.8789 - val_loss: 0.6343 - val_acc: 0.8125\n",
      "\n",
      "Epoch 00018: val_loss did not improve from 0.44158\n",
      "Epoch 19/163\n",
      "32/32 [==============================] - 13s 411ms/step - loss: 0.2482 - acc: 0.8896 - val_loss: 0.6911 - val_acc: 0.7500\n",
      "\n",
      "Epoch 00019: val_loss did not improve from 0.44158\n",
      "Epoch 20/163\n",
      "32/32 [==============================] - 13s 414ms/step - loss: 0.2572 - acc: 0.8857 - val_loss: 0.6887 - val_acc: 0.7500\n",
      "\n",
      "Epoch 00020: val_loss did not improve from 0.44158\n",
      "Epoch 21/163\n",
      "32/32 [==============================] - 13s 401ms/step - loss: 0.2563 - acc: 0.8896 - val_loss: 0.7783 - val_acc: 0.6250\n",
      "\n",
      "Epoch 00021: val_loss did not improve from 0.44158\n",
      "Epoch 00021: early stopping\n"
     ]
    }
   ],
   "source": [
    "# training and evaluating the model with transformations\n",
    "history_c = model_c.fit_generator(train_generator,  \n",
    "                              # 32 steps for each of 163 epochs, for\n",
    "                              # 5216 training samples\n",
    "                              steps_per_epoch=32, \n",
    "                              epochs=163, \n",
    "                              validation_data=validation_generator, \n",
    "                              validation_steps=16, \n",
    "                              class_weight = 'auto',\n",
    "                              callbacks = my_callbacks)"
   ]
  },
  {
   "cell_type": "markdown",
   "metadata": {
    "colab_type": "text",
    "id": "8sjdClFgVJQV"
   },
   "source": [
    "> That was a much quicker model. How did it perform?"
   ]
  },
  {
   "cell_type": "code",
   "execution_count": 0,
   "metadata": {
    "colab": {},
    "colab_type": "code",
    "id": "WeGtVp6CiwCq"
   },
   "outputs": [],
   "source": [
    "# downloading the model locally\n",
    "files.download('./models/p3_model_c.h5')"
   ]
  },
  {
   "cell_type": "markdown",
   "metadata": {
    "colab_type": "text",
    "id": "9J0jZZSUiwCu"
   },
   "source": [
    "\n",
    "\n",
    "> We'll reload the saved model.\n",
    "* The best model was saved via callbacks to 'p3_model.h5'.\n",
    "* We can evaluate it against our validation generator, to verify that the score reported above was based on our best model weights.\n",
    "\n"
   ]
  },
  {
   "cell_type": "code",
   "execution_count": 0,
   "metadata": {
    "colab": {
     "base_uri": "https://localhost:8080/",
     "height": 372
    },
    "colab_type": "code",
    "id": "Y0nUQg34iwCu",
    "outputId": "9ac8d2e9-faeb-49a8-b05f-d5fc93b2487d"
   },
   "outputs": [
    {
     "name": "stdout",
     "output_type": "stream",
     "text": [
      "Model: \"sequential_26\"\n",
      "_________________________________________________________________\n",
      "Layer (type)                 Output Shape              Param #   \n",
      "=================================================================\n",
      "conv2d_82 (Conv2D)           (None, 148, 148, 32)      896       \n",
      "_________________________________________________________________\n",
      "max_pooling2d_52 (MaxPooling (None, 74, 74, 32)        0         \n",
      "_________________________________________________________________\n",
      "conv2d_83 (Conv2D)           (None, 72, 72, 64)        18496     \n",
      "_________________________________________________________________\n",
      "flatten_26 (Flatten)         (None, 331776)            0         \n",
      "_________________________________________________________________\n",
      "dense_47 (Dense)             (None, 64)                21233728  \n",
      "_________________________________________________________________\n",
      "dense_48 (Dense)             (None, 1)                 65        \n",
      "=================================================================\n",
      "Total params: 21,253,185\n",
      "Trainable params: 21,253,185\n",
      "Non-trainable params: 0\n",
      "_________________________________________________________________\n"
     ]
    }
   ],
   "source": [
    "# reloading saved model and best weights\n",
    "from keras.models import load_model\n",
    " \n",
    "# loading model\n",
    "model = load_model('./models/p3_model_c.h5')\n",
    "\n",
    "# viewing model architecture\n",
    "model.summary()"
   ]
  },
  {
   "cell_type": "code",
   "execution_count": 0,
   "metadata": {
    "colab": {
     "base_uri": "https://localhost:8080/",
     "height": 52
    },
    "colab_type": "code",
    "id": "r975ArVeiCsr",
    "outputId": "102b2f02-66d8-4b1e-d1ac-ff4fa386ecff"
   },
   "outputs": [
    {
     "name": "stdout",
     "output_type": "stream",
     "text": [
      "val loss: 0.7782552242279053\n",
      "val acc: 0.625\n"
     ]
    }
   ],
   "source": [
    "val_loss, val_acc = model_c.evaluate_generator(validation_generator)\n",
    "\n",
    "print('val loss:', val_loss)\n",
    "print('val acc:', val_acc)"
   ]
  },
  {
   "cell_type": "code",
   "execution_count": 0,
   "metadata": {
    "colab": {
     "base_uri": "https://localhost:8080/",
     "height": 544
    },
    "colab_type": "code",
    "id": "CTOTaydWiCs2",
    "outputId": "75aadbbb-94d2-4fdc-f82b-f63d8792dbb4"
   },
   "outputs": [
    {
     "data": {
      "image/png": "[encoded data removed]",
      "text/plain": [
       "<Figure size 432x288 with 1 Axes>"
      ]
     },
     "metadata": {
      "needs_background": "light",
      "tags": []
     },
     "output_type": "display_data"
    },
    {
     "data": {
      "image/png": "[encoded data removed]",
      "text/plain": [
       "<Figure size 432x288 with 1 Axes>"
      ]
     },
     "metadata": {
      "needs_background": "light",
      "tags": []
     },
     "output_type": "display_data"
    }
   ],
   "source": [
    "acc = history_c.history['acc']\n",
    "val_acc = history_c.history['val_acc']\n",
    "loss = history_c.history['loss']\n",
    "val_loss = history_c.history['val_loss']\n",
    "epochs = range(len(acc))\n",
    "plt.plot(epochs, acc, 'bo', label='Training acc')\n",
    "plt.plot(epochs, val_acc, 'b', label='Validation acc')\n",
    "plt.title('Training and validation accuracy along epochs')\n",
    "plt.legend()\n",
    "plt.figure()\n",
    "plt.plot(epochs, loss, 'bo', label='Training loss')\n",
    "plt.plot(epochs, val_loss, 'b', label='Validation loss')\n",
    "plt.title('Training and validation loss along epochs')\n",
    "plt.legend()\n",
    "plt.show()"
   ]
  },
  {
   "cell_type": "markdown",
   "metadata": {
    "colab_type": "text",
    "id": "gjsUowMpj4CA"
   },
   "source": [
    "While there appears to be a general tendency, between training data and predictions for validation data, the validation batch size (only 16 total samples) may prevent the convergence we would like to see in our validation accuracy and loss plots."
   ]
  },
  {
   "cell_type": "markdown",
   "metadata": {
    "colab_type": "text",
    "id": "lMx_uVkniCs6"
   },
   "source": [
    "### Evaluate model_c on Test Data"
   ]
  },
  {
   "cell_type": "code",
   "execution_count": 0,
   "metadata": {
    "colab": {
     "base_uri": "https://localhost:8080/",
     "height": 70
    },
    "colab_type": "code",
    "id": "ACTDE82yiCs6",
    "outputId": "34a244fa-b736-40e5-8028-391320f3f852"
   },
   "outputs": [
    {
     "name": "stdout",
     "output_type": "stream",
     "text": [
      "Found 624 images belonging to 2 classes.\n",
      "test loss: 0.474753737449646\n",
      "test acc: 0.8093359470367432\n"
     ]
    }
   ],
   "source": [
    "# using 39 batches of 16 steps for 624 test samples\n",
    "test_generator = test_datagen.flow_from_directory(test_dir, \n",
    "                                                  target_size=(150, 150), \n",
    "                                                  batch_size=39, \n",
    "                                                  class_mode='binary')\n",
    "\n",
    "# using 39 steps to increase samples per batch\n",
    "test_loss, test_acc = model_c.evaluate_generator(test_generator, steps=39)\n",
    "\n",
    "print('test loss:', test_loss)\n",
    "print('test acc:', test_acc)"
   ]
  },
  {
   "cell_type": "markdown",
   "metadata": {
    "colab_type": "text",
    "id": "jj90derfiCs9"
   },
   "source": [
    "> We can compare our latest results to `model_b`, even though we consider that model to have unfavorable type - error ratios:\n",
    ">\n",
    ">|model_b test loss: 0.68||model_c test loss: 0.47|\n",
    ">|----|----|----|\n",
    ">|model_b test acc: 0.84||model_c test acc: 0.81|"
   ]
  },
  {
   "cell_type": "markdown",
   "metadata": {
    "colab_type": "text",
    "id": "7WfL_I-3iCs9"
   },
   "source": [
    "> Again, we have achieved improvements in both loss and accuracy.\n",
    "* Let's check performance metrics."
   ]
  },
  {
   "cell_type": "code",
   "execution_count": 0,
   "metadata": {
    "colab": {},
    "colab_type": "code",
    "id": "Eorwkxf9iCs9"
   },
   "outputs": [],
   "source": [
    "# instantiate variables for true and predicted arrays\n",
    "y_true=test_generator.classes\n",
    "\n",
    "y_pred = model_c.predict_generator(test_generator)\n",
    "y_pred = np.rint(y_pred)"
   ]
  },
  {
   "cell_type": "code",
   "execution_count": 0,
   "metadata": {
    "colab": {
     "base_uri": "https://localhost:8080/",
     "height": 418
    },
    "colab_type": "code",
    "id": "jdKOPBhsiCs_",
    "outputId": "601929c8-b3d9-419c-ad13-2707dfc24b81"
   },
   "outputs": [
    {
     "name": "stdout",
     "output_type": "stream",
     "text": [
      "[[ 68 166]\n",
      " [108 282]]\n"
     ]
    },
    {
     "data": {
      "image/png": "[encoded data removed]",
      "text/plain": [
       "<Figure size 360x360 with 1 Axes>"
      ]
     },
     "metadata": {
      "needs_background": "light",
      "tags": []
     },
     "output_type": "display_data"
    }
   ],
   "source": [
    "# plotting confusion matrix\n",
    "labels = [0,1]\n",
    "CM = confusion_matrix(y_true, y_pred, labels)\n",
    "\n",
    "fig, ax = plot_confusion_matrix(conf_mat=CM, \n",
    "                                figsize=(5, 5), \n",
    "                                hide_ticks=False, \n",
    "                                cmap=plt.cm.Blues)\n",
    "\n",
    "ax.set_xticklabels([''] + labels) \n",
    "ax.set_yticklabels([''] + labels) \n",
    "print(CM) \n",
    "\n",
    "plt.title(\"\\nConfusion Matrix for\", \n",
    "          fontsize=15)\n",
    "fig.savefig(\"model_1_CM\", dpi=100)\n",
    "plt.show()"
   ]
  },
  {
   "cell_type": "markdown",
   "metadata": {
    "colab_type": "text",
    "id": "DYwhQEhto90E"
   },
   "source": [
    "These metrics appear to not be too far off from `model_b`"
   ]
  },
  {
   "cell_type": "code",
   "execution_count": 0,
   "metadata": {
    "colab": {
     "base_uri": "https://localhost:8080/",
     "height": 52
    },
    "colab_type": "code",
    "id": "oIZyxp5MiCtA",
    "outputId": "835dce6d-2b22-4fdd-f9cd-84a52a15bda5"
   },
   "outputs": [
    {
     "name": "stdout",
     "output_type": "stream",
     "text": [
      "Predicted 'NORMAL':  176\n",
      "Predicted 'PNEUMONIA': 448\n"
     ]
    }
   ],
   "source": [
    "# summing predictions\n",
    "print(\"Predicted 'NORMAL': \", sum(1 for i in y_pred if i == 0))\n",
    "print(\"Predicted 'PNEUMONIA':\", sum(1 for i in y_pred if i == 1))"
   ]
  },
  {
   "cell_type": "code",
   "execution_count": 0,
   "metadata": {
    "colab": {
     "base_uri": "https://localhost:8080/",
     "height": 87
    },
    "colab_type": "code",
    "id": "nzSes4V-iCtF",
    "outputId": "d953806b-666f-4917-8c58-e7e9d006fb15"
   },
   "outputs": [
    {
     "name": "stdout",
     "output_type": "stream",
     "text": [
      "perf. accuracy =    56.0897\n",
      "perf. recall =      72.3077\n",
      "perf. precision =   62.9464\n",
      "perf. f1 =          67.3031\n"
     ]
    }
   ],
   "source": [
    "#viewing performance measures\n",
    "perf_measure(y_true, y_pred)"
   ]
  },
  {
   "cell_type": "markdown",
   "metadata": {
    "colab_type": "text",
    "id": "BV-prqA9iCtG"
   },
   "source": [
    "`model_b` actually has __more__ false negatives than the first model. In that regard, it is not an improvement. Ideally, we would see improvement in our recall score Recall = TP/(TP + FN)"
   ]
  },
  {
   "cell_type": "markdown",
   "metadata": {
    "colab_type": "text",
    "id": "uKZCFJLMKLFZ"
   },
   "source": [
    "# Working with a Completed Model (example)\n",
    "\n",
    "> We have more work to do with this set, but le's see what it would look like to work with a completed model.\n",
    "* We will look at a model applied to the same dataset.\n",
    "* This model uses an RMSprop optimizer."
   ]
  },
  {
   "cell_type": "code",
   "execution_count": 0,
   "metadata": {
    "colab": {
     "base_uri": "https://localhost:8080/",
     "height": 70
    },
    "colab_type": "code",
    "id": "S9zylGvJKOjF",
    "outputId": "950c1796-b787-4f36-9a1f-3111205cc89f"
   },
   "outputs": [
    {
     "name": "stdout",
     "output_type": "stream",
     "text": [
      "Found 624 images belonging to 2 classes.\n",
      "test loss: 0.5838384628295898\n",
      "test acc: 0.8253205418586731\n"
     ]
    }
   ],
   "source": [
    "# evaluating the best model on test data\n",
    "# setting steps to 39 and batch_size to 16 (for 624 images)\n",
    "test_generator = test_datagen.flow_from_directory(test_dir, \n",
    "                                                  target_size=(150, 150), \n",
    "                                                  batch_size=16, \n",
    "                                                  class_mode='binary')\n",
    "\n",
    "test_loss, test_acc = model.evaluate_generator(test_generator, steps=39)\n",
    "\n",
    "print('test loss:', test_loss)\n",
    "print('test acc:', test_acc)"
   ]
  },
  {
   "cell_type": "markdown",
   "metadata": {
    "colab_type": "text",
    "id": "KoetEZGxiFY0"
   },
   "source": [
    "* This model also may be used as a basis for further tuning or distributed as - is."
   ]
  },
  {
   "cell_type": "markdown",
   "metadata": {
    "colab_type": "text",
    "id": "upELSyddR9xy"
   },
   "source": [
    "## Distribution\n",
    "\n",
    "* Since we previously saved our `my_model.h5` model, we can distribute it and use it on another system or for another project.\n",
    "* A string summary of the mode's architecture may be saved and shared, as well."
   ]
  },
  {
   "cell_type": "code",
   "execution_count": 0,
   "metadata": {
    "colab": {
     "base_uri": "https://localhost:8080/",
     "height": 550
    },
    "colab_type": "code",
    "id": "FGW-Es_ql00T",
    "outputId": "601e8a22-5c9e-4abf-e099-89155b023380"
   },
   "outputs": [
    {
     "name": "stdout",
     "output_type": "stream",
     "text": [
      "Model: \"sequential_1\"\n",
      "_________________________________________________________________\n",
      "Layer (type)                 Output Shape              Param #   \n",
      "=================================================================\n",
      "conv2d_1 (Conv2D)            (None, 148, 148, 32)      896       \n",
      "_________________________________________________________________\n",
      "max_pooling2d_1 (MaxPooling2 (None, 74, 74, 32)        0         \n",
      "_________________________________________________________________\n",
      "conv2d_2 (Conv2D)            (None, 72, 72, 64)        18496     \n",
      "_________________________________________________________________\n",
      "max_pooling2d_2 (MaxPooling2 (None, 36, 36, 64)        0         \n",
      "_________________________________________________________________\n",
      "conv2d_3 (Conv2D)            (None, 34, 34, 128)       73856     \n",
      "_________________________________________________________________\n",
      "max_pooling2d_3 (MaxPooling2 (None, 17, 17, 128)       0         \n",
      "_________________________________________________________________\n",
      "conv2d_4 (Conv2D)            (None, 15, 15, 128)       147584    \n",
      "_________________________________________________________________\n",
      "max_pooling2d_4 (MaxPooling2 (None, 7, 7, 128)         0         \n",
      "_________________________________________________________________\n",
      "flatten_1 (Flatten)          (None, 6272)              0         \n",
      "_________________________________________________________________\n",
      "dense_1 (Dense)              (None, 512)               3211776   \n",
      "_________________________________________________________________\n",
      "dense_2 (Dense)              (None, 1)                 513       \n",
      "=================================================================\n",
      "Total params: 3,453,121\n",
      "Trainable params: 3,453,121\n",
      "Non-trainable params: 0\n",
      "_________________________________________________________________\n"
     ]
    }
   ],
   "source": [
    "# loading the saved model\n",
    "from keras.models import load_model\n",
    "\n",
    "filepath = '/root/data/models/p3_model.h5' # current path to saved file\n",
    "\n",
    "dist_model = load_model(filepath, \n",
    "         custom_objects={'loss':'binary_crossentropy'})\n",
    "\n",
    "# printing string summary\n",
    "dist_model.summary()"
   ]
  },
  {
   "cell_type": "markdown",
   "metadata": {
    "colab_type": "text",
    "id": "HI6XLzkH1nxf"
   },
   "source": [
    "In addition, t model's architecture may be shared as an image."
   ]
  },
  {
   "cell_type": "code",
   "execution_count": 0,
   "metadata": {
    "colab": {
     "base_uri": "https://localhost:8080/",
     "height": 1000
    },
    "colab_type": "code",
    "id": "4vBq2_l0z7z0",
    "outputId": "1d1efbcb-183a-42da-81fa-0ee524f59189"
   },
   "outputs": [
    {
     "data": {
      "image/png": "[encoded data removed]",
      "text/plain": [
       "<IPython.core.display.Image object>"
      ]
     },
     "execution_count": 76,
     "metadata": {
      "tags": []
     },
     "output_type": "execute_result"
    }
   ],
   "source": [
    "from keras.utils import plot_model\n",
    "\n",
    "# plot model architecture, only\n",
    "plot_model(dist_model)"
   ]
  },
  {
   "cell_type": "markdown",
   "metadata": {
    "colab_type": "text",
    "id": "ctHBewU6KgXN"
   },
   "source": [
    "# Summary / Future Work\n",
    "We created a few supervised learning models, to look at how we might predict whether or not a patient has pneumonia, based on x-ray images of patient lungs.\n",
    "> This project takes into consideration the particular requirements of performing data science modeling for a non - trivial task.\n",
    "* A model with too many incorrect predictions (errors) could result in failure to properly diagnose and treat patient illness.\n",
    "* Given prediction errors, it would be preferable to predict more false positives than false negatives--incorrectly identifying disease, which may lead to additional tests, rather than incorrectly determining that there is no disease, which may lead to a lack of necessary treatment.\n",
    "\n",
    "A tool that may be useful for additional work on this project is the precision-recall curve.\n",
    "![image.png](https://github.com/jammy-bot/pneumonia-x-ray-deep-learning-classification/blob/master/images/pre-rec-example-1.png | via https://acutecaretesting.org/)*Example of precision-recal curve plot*\n",
    "\n",
    "The precision-recall plot provides at - a - glance visualization of model performance, particularly relevant to this type of problem, where you first and foremost want to ensure that the model identifies the vast majority of persons with the disease as having the disease. Usefully, this plot is less sensitive to training imbalance than an ROC.\n",
    "\n",
    "To further tune our model, we can make adjustments to the many available hyperparameters:\n",
    "* differnt transformations in __data augmentation__\n",
    "* increase, decrease, or __alter layers__ and __model depth__\n",
    "* use different __activations__\n",
    "* add __dropout__ layers that only pass - on _some_ of the data to the next layer, to help prevent overfitting....\n",
    "* Of course, there is also the gold standard: __more data__\n",
    "\n"
   ]
  },
  {
   "cell_type": "markdown",
   "metadata": {
    "colab_type": "text",
    "id": "M9tWA_EUiCtG"
   },
   "source": [
    "# ===========================================\n",
    "\n",
    "---\n",
    "\n"
   ]
  },
  {
   "cell_type": "markdown",
   "metadata": {
    "colab_type": "text",
    "id": "_qUsQJf3NCGZ"
   },
   "source": [
    "# Errata / previous work\n",
    "\\"
   ]
  },
  {
   "cell_type": "markdown",
   "metadata": {
    "colab_type": "text",
    "id": "rUMFlVQILlif"
   },
   "source": [
    "> Loss is much better than the previous model, but accuracy has slightly fallen.\n",
    ">\n",
    ">|previous test loss: 1.14||current test loss: 0.70|\n",
    ">|----|----|----|\n",
    ">|previous test acc: 0.77||current test acc: 0.73|"
   ]
  },
  {
   "cell_type": "code",
   "execution_count": 0,
   "metadata": {
    "colab": {},
    "colab_type": "code",
    "id": "_Nz_eH6wYq1r"
   },
   "outputs": [],
   "source": [
    "# instantiate variables for true and predicted arrays\n",
    "y_true=test_generator.classes\n",
    "\n",
    "y_pred = model_c.predict_generator(test_generator)\n",
    "y_pred = np.rint(y_pred)"
   ]
  },
  {
   "cell_type": "code",
   "execution_count": 0,
   "metadata": {
    "colab": {
     "base_uri": "https://localhost:8080/",
     "height": 52
    },
    "colab_type": "code",
    "id": "INzUziGsX_uO",
    "outputId": "a81e44ab-3b89-439c-e7ac-e18e2abe366c"
   },
   "outputs": [
    {
     "name": "stdout",
     "output_type": "stream",
     "text": [
      "Predicted 'NORMAL':  624\n",
      "Predicted 'PNEUMONIA': 0\n"
     ]
    }
   ],
   "source": [
    "# summing predictions\n",
    "print(\"Predicted 'NORMAL': \", sum(1 for i in y_pred if i == 0))\n",
    "print(\"Predicted 'PNEUMONIA':\", sum(1 for i in y_pred if i == 1))"
   ]
  },
  {
   "cell_type": "code",
   "execution_count": 0,
   "metadata": {
    "colab": {},
    "colab_type": "code",
    "id": "maf5JZFHQZyv"
   },
   "outputs": [],
   "source": []
  },
  {
   "cell_type": "code",
   "execution_count": 0,
   "metadata": {
    "colab": {},
    "colab_type": "code",
    "id": "SbKWY7c0MpPA"
   },
   "outputs": [],
   "source": [
    "# from sklearn.metrics import confusion_matrix, classification_report\n",
    "# viewing classification report\n",
    "# print(classification_report(y_true, y_pred, labels=[0,1]))"
   ]
  },
  {
   "cell_type": "markdown",
   "metadata": {
    "colab_type": "text",
    "id": "ydQNf-UF4RxE"
   },
   "source": [
    "## Model 2"
   ]
  },
  {
   "cell_type": "markdown",
   "metadata": {
    "colab_type": "text",
    "id": "4nAIoozX5lGW"
   },
   "source": [
    "Let's try:\n",
    "* more layers\n",
    "* add dropout layers after each pooling layer"
   ]
  },
  {
   "cell_type": "code",
   "execution_count": 0,
   "metadata": {
    "colab": {},
    "colab_type": "code",
    "id": "RtjG0-E34S4W"
   },
   "outputs": [],
   "source": [
    "model_2 = models.Sequential()\n",
    "\n",
    "model_2.add(layers.Conv2D(32, (2, 2), activation='relu',\n",
    "                        input_shape=(150, 150, 3)))\n",
    "model_2.add(layers.MaxPooling2D(pool_size=(3,3))), \n",
    "\n",
    "model_2.add(layers.Conv2D(64, (2,2), activation='relu')), \n",
    "model_2.add(layers.MaxPooling2D(pool_size=(3,3))), \n",
    "\n",
    "model_2.add(layers.Conv2D(128, (3,3), activation='relu')), \n",
    "model_2.add(layers.MaxPooling2D(pool_size=(2,2))),\n",
    "\n",
    "model_2.add(layers.Conv2D(128, (2,2), activation='relu')), \n",
    "model_2.add(layers.MaxPooling2D(pool_size=(2,2))), \n",
    "\n",
    "model_2.add(layers.Flatten()), \n",
    "model_2.add(layers.Dropout(0.15)), \n",
    "\n",
    "model_2.add(layers.Dense(512, activation='relu')), \n",
    "model_2.add(layers.Dropout(0.15)), \n",
    "\n",
    "model_2.add(layers.Dense(256, activation='relu')), \n",
    "model_2.add(layers.Dense(1, activation='sigmoid'))"
   ]
  },
  {
   "cell_type": "markdown",
   "metadata": {
    "colab_type": "text",
    "id": "EBhud55m7u4F"
   },
   "source": [
    "* Change the optimizer to `Adam`\n",
    "* use 'accuracy' metrics"
   ]
  },
  {
   "cell_type": "code",
   "execution_count": 0,
   "metadata": {
    "colab": {},
    "colab_type": "code",
    "id": "WQb6HiK94S4d"
   },
   "outputs": [],
   "source": [
    "# compiling the model\n",
    "model_2.compile(loss='binary_crossentropy',\n",
    "              optimizer=optimizers.Adam(lr=1e-4),\n",
    "              metrics=['acc'])"
   ]
  },
  {
   "cell_type": "code",
   "execution_count": 0,
   "metadata": {
    "colab": {},
    "colab_type": "code",
    "id": "fyLTugP64S4l"
   },
   "outputs": [],
   "source": [
    "# creating callback checkpoints\n",
    "my_callbacks = [\n",
    "    EarlyStopping(patience=10, verbose=1), # lowered patience\n",
    "    ReduceLROnPlateau(factor=0.1, patience=3, min_lr=0.00001, verbose=1),\n",
    "    ModelCheckpoint(filepath = f_path + 'p3_model_2.h5', \n",
    "    verbose=1, save_best_only=True, save_weights_only=False) \n",
    "    ]"
   ]
  },
  {
   "cell_type": "markdown",
   "metadata": {
    "colab_type": "text",
    "id": "2PAh3RvSG5Wh"
   },
   "source": [
    "Trade `steps_per_epoch` and `epochs` values, to train longer per epoch."
   ]
  },
  {
   "cell_type": "code",
   "execution_count": 0,
   "metadata": {
    "colab": {
     "base_uri": "https://localhost:8080/",
     "height": 1000
    },
    "colab_type": "code",
    "id": "F7vQOzi04S4n",
    "outputId": "a570ca6c-0417-4d04-a784-6e6cfd027189"
   },
   "outputs": [
    {
     "name": "stdout",
     "output_type": "stream",
     "text": [
      "Epoch 1/16\n",
      "39/39 [==============================] - 313s 8s/step - loss: 1.9527 - acc: 0.6451 - val_loss: 0.6925 - val_acc: 0.5000\n",
      "\n",
      "Epoch 00001: val_loss improved from inf to 0.69250, saving model to ./models/p3_model_2.h5\n",
      "Epoch 2/16\n",
      "39/39 [==============================] - 315s 8s/step - loss: 0.5016 - acc: 0.7770 - val_loss: 0.6912 - val_acc: 0.5000\n",
      "\n",
      "Epoch 00002: val_loss improved from 0.69250 to 0.69115, saving model to ./models/p3_model_2.h5\n",
      "Epoch 3/16\n",
      "39/39 [==============================] - 316s 8s/step - loss: 0.3437 - acc: 0.8506 - val_loss: 0.6906 - val_acc: 0.5000\n",
      "\n",
      "Epoch 00003: val_loss improved from 0.69115 to 0.69062, saving model to ./models/p3_model_2.h5\n",
      "Epoch 4/16\n",
      "39/39 [==============================] - 315s 8s/step - loss: 0.2847 - acc: 0.8780 - val_loss: 0.6987 - val_acc: 0.5000\n",
      "\n",
      "Epoch 00004: val_loss did not improve from 0.69062\n",
      "Epoch 5/16\n",
      "39/39 [==============================] - 315s 8s/step - loss: 0.2593 - acc: 0.8900 - val_loss: 0.6851 - val_acc: 0.5000\n",
      "\n",
      "Epoch 00005: val_loss improved from 0.69062 to 0.68506, saving model to ./models/p3_model_2.h5\n",
      "Epoch 6/16\n",
      "39/39 [==============================] - 314s 8s/step - loss: 0.2424 - acc: 0.8984 - val_loss: 0.6930 - val_acc: 0.5000\n",
      "\n",
      "Epoch 00006: val_loss did not improve from 0.68506\n",
      "Epoch 7/16\n",
      "39/39 [==============================] - 313s 8s/step - loss: 0.2248 - acc: 0.9088 - val_loss: 0.6837 - val_acc: 0.5000\n",
      "\n",
      "Epoch 00007: val_loss improved from 0.68506 to 0.68371, saving model to ./models/p3_model_2.h5\n",
      "Epoch 8/16\n",
      "39/39 [==============================] - 314s 8s/step - loss: 0.2147 - acc: 0.9132 - val_loss: 0.7029 - val_acc: 0.5000\n",
      "\n",
      "Epoch 00008: val_loss did not improve from 0.68371\n",
      "Epoch 9/16\n",
      "39/39 [==============================] - 313s 8s/step - loss: 0.2014 - acc: 0.9173 - val_loss: 0.6709 - val_acc: 0.5000\n",
      "\n",
      "Epoch 00009: val_loss improved from 0.68371 to 0.67094, saving model to ./models/p3_model_2.h5\n",
      "Epoch 10/16\n",
      "39/39 [==============================] - 314s 8s/step - loss: 0.1896 - acc: 0.9235 - val_loss: 0.7182 - val_acc: 0.5000\n",
      "\n",
      "Epoch 00010: val_loss did not improve from 0.67094\n",
      "Epoch 11/16\n",
      "39/39 [==============================] - 314s 8s/step - loss: 0.1906 - acc: 0.9241 - val_loss: 0.7219 - val_acc: 0.5000\n",
      "\n",
      "Epoch 00011: val_loss did not improve from 0.67094\n",
      "Epoch 12/16\n",
      "39/39 [==============================] - 314s 8s/step - loss: 0.1860 - acc: 0.9287 - val_loss: 0.6920 - val_acc: 0.5000\n",
      "\n",
      "Epoch 00012: ReduceLROnPlateau reducing learning rate to 1e-05.\n",
      "\n",
      "Epoch 00012: val_loss did not improve from 0.67094\n",
      "Epoch 13/16\n",
      "39/39 [==============================] - 314s 8s/step - loss: 0.1734 - acc: 0.9327 - val_loss: 0.7083 - val_acc: 0.5000\n",
      "\n",
      "Epoch 00013: val_loss did not improve from 0.67094\n",
      "Epoch 14/16\n",
      "39/39 [==============================] - 314s 8s/step - loss: 0.1761 - acc: 0.9307 - val_loss: 0.6640 - val_acc: 0.5000\n",
      "\n",
      "Epoch 00014: val_loss improved from 0.67094 to 0.66399, saving model to ./models/p3_model_2.h5\n",
      "Epoch 15/16\n",
      "39/39 [==============================] - 314s 8s/step - loss: 0.1704 - acc: 0.9339 - val_loss: 0.6934 - val_acc: 0.5000\n",
      "\n",
      "Epoch 00015: val_loss did not improve from 0.66399\n",
      "Epoch 16/16\n",
      "39/39 [==============================] - 314s 8s/step - loss: 0.1699 - acc: 0.9338 - val_loss: 0.7082 - val_acc: 0.5000\n",
      "\n",
      "Epoch 00016: val_loss did not improve from 0.66399\n"
     ]
    }
   ],
   "source": [
    "# training and evaluating the model\n",
    "# using the callback in the `model.fit`\n",
    "history_2 = model_2.fit_generator(train_generator, \n",
    "                              shuffle=True, \n",
    "                              steps_per_epoch=39, \n",
    "                              epochs=16, \n",
    "                              validation_data=validation_generator, \n",
    "#                              validation_steps=50, \n",
    "#                              class_weight=class_weights,\n",
    "                              callbacks = my_callbacks)"
   ]
  },
  {
   "cell_type": "code",
   "execution_count": 0,
   "metadata": {
    "colab": {
     "base_uri": "https://localhost:8080/",
     "height": 52
    },
    "colab_type": "code",
    "id": "YVlHANoP4S4w",
    "outputId": "f1489cf6-24ff-4071-c7ca-7a642d37f008"
   },
   "outputs": [
    {
     "name": "stdout",
     "output_type": "stream",
     "text": [
      "val loss: 0.6920414566993713\n",
      "val acc: 0.5\n"
     ]
    }
   ],
   "source": [
    "val_loss, val_acc = model_2.evaluate_generator(validation_generator, \n",
    "                                               steps=50)\n",
    "\n",
    "print('val loss:', val_loss)\n",
    "print('val acc:', val_acc)"
   ]
  },
  {
   "cell_type": "code",
   "execution_count": 0,
   "metadata": {
    "colab": {},
    "colab_type": "code",
    "id": "eOqUJwtm4S4p"
   },
   "outputs": [],
   "source": [
    "# download the model\n",
    "files.download('./models/p3_model_2.h5')"
   ]
  },
  {
   "cell_type": "code",
   "execution_count": 0,
   "metadata": {
    "colab": {
     "base_uri": "https://localhost:8080/",
     "height": 656
    },
    "colab_type": "code",
    "id": "7vrWLCeJ4S4s",
    "outputId": "cbf2e1f7-3893-48b5-c9f7-23b92ff3cdef"
   },
   "outputs": [
    {
     "name": "stdout",
     "output_type": "stream",
     "text": [
      "Model: \"sequential_9\"\n",
      "_________________________________________________________________\n",
      "Layer (type)                 Output Shape              Param #   \n",
      "=================================================================\n",
      "conv2d_29 (Conv2D)           (None, 149, 149, 32)      416       \n",
      "_________________________________________________________________\n",
      "max_pooling2d_7 (MaxPooling2 (None, 49, 49, 32)        0         \n",
      "_________________________________________________________________\n",
      "conv2d_30 (Conv2D)           (None, 48, 48, 64)        8256      \n",
      "_________________________________________________________________\n",
      "max_pooling2d_8 (MaxPooling2 (None, 16, 16, 64)        0         \n",
      "_________________________________________________________________\n",
      "conv2d_31 (Conv2D)           (None, 14, 14, 128)       73856     \n",
      "_________________________________________________________________\n",
      "max_pooling2d_9 (MaxPooling2 (None, 7, 7, 128)         0         \n",
      "_________________________________________________________________\n",
      "conv2d_32 (Conv2D)           (None, 6, 6, 128)         65664     \n",
      "_________________________________________________________________\n",
      "max_pooling2d_10 (MaxPooling (None, 3, 3, 128)         0         \n",
      "_________________________________________________________________\n",
      "flatten_9 (Flatten)          (None, 1152)              0         \n",
      "_________________________________________________________________\n",
      "dropout_3 (Dropout)          (None, 1152)              0         \n",
      "_________________________________________________________________\n",
      "dense_18 (Dense)             (None, 512)               590336    \n",
      "_________________________________________________________________\n",
      "dropout_4 (Dropout)          (None, 512)               0         \n",
      "_________________________________________________________________\n",
      "dense_19 (Dense)             (None, 256)               131328    \n",
      "_________________________________________________________________\n",
      "dense_20 (Dense)             (None, 1)                 257       \n",
      "=================================================================\n",
      "Total params: 870,113\n",
      "Trainable params: 870,113\n",
      "Non-trainable params: 0\n",
      "_________________________________________________________________\n"
     ]
    }
   ],
   "source": [
    "model_2.summary()"
   ]
  },
  {
   "cell_type": "markdown",
   "metadata": {
    "colab_type": "text",
    "id": "opO480q14S4t"
   },
   "source": [
    "__Visualize Training Results__"
   ]
  },
  {
   "cell_type": "code",
   "execution_count": 0,
   "metadata": {
    "colab": {
     "base_uri": "https://localhost:8080/",
     "height": 544
    },
    "colab_type": "code",
    "id": "Jpj-X33v4S4u",
    "outputId": "87951fd9-be29-4a7f-aadd-af51175e6186"
   },
   "outputs": [
    {
     "data": {
      "image/png": "[encoded data removed]",
      "text/plain": [
       "<Figure size 432x288 with 1 Axes>"
      ]
     },
     "metadata": {
      "needs_background": "light",
      "tags": []
     },
     "output_type": "display_data"
    },
    {
     "data": {
      "image/png": "[encoded data removed]",
      "text/plain": [
       "<Figure size 432x288 with 1 Axes>"
      ]
     },
     "metadata": {
      "needs_background": "light",
      "tags": []
     },
     "output_type": "display_data"
    }
   ],
   "source": [
    "import matplotlib.pyplot as plt\n",
    "%matplotlib inline \n",
    "acc = history_2.history['acc']\n",
    "val_acc = history_2.history['val_acc']\n",
    "loss = history_2.history['loss']\n",
    "val_loss = history_2.history['val_loss']\n",
    "epochs = range(len(acc))\n",
    "plt.plot(epochs, acc, 'bo', label='Training acc')\n",
    "plt.plot(epochs, val_acc, 'b', label='Validation acc')\n",
    "plt.title('Training and validation accuracy along epochs')\n",
    "plt.legend()\n",
    "\n",
    "plt.figure()\n",
    "plt.plot(epochs, loss, 'bo', label='Training loss')\n",
    "plt.plot(epochs, val_loss, 'b', label='Validation loss')\n",
    "plt.title('Training and validation loss along epochs')\n",
    "plt.legend()\n",
    "plt.show()"
   ]
  },
  {
   "cell_type": "markdown",
   "metadata": {
    "colab_type": "text",
    "id": "rzujLzTqcsX6"
   },
   "source": [
    "> Early stopping may have been a bit premature, for this model, as measures do not appear to have settled into a definitive trend."
   ]
  },
  {
   "cell_type": "markdown",
   "metadata": {
    "colab_type": "text",
    "id": "dT1ddJv4Lfjo"
   },
   "source": [
    "### Evaluate Model 2 on Test Data"
   ]
  },
  {
   "cell_type": "code",
   "execution_count": 0,
   "metadata": {
    "colab": {
     "base_uri": "https://localhost:8080/",
     "height": 70
    },
    "colab_type": "code",
    "id": "yz370mOJPa3M",
    "outputId": "f2c5d594-34a7-40a0-e16e-b3492b35fa21"
   },
   "outputs": [
    {
     "name": "stdout",
     "output_type": "stream",
     "text": [
      "Found 624 images belonging to 2 classes.\n",
      "test loss: 0.6922323703765869\n",
      "test acc: 0.6189024448394775\n"
     ]
    }
   ],
   "source": [
    "test_generator = test_datagen.flow_from_directory(test_dir, \n",
    "                                                  target_size=(150, 150), \n",
    "                                                  batch_size=20, \n",
    "                                                  class_mode='binary')\n",
    "\n",
    "test_loss, test_acc = model_2.evaluate_generator(test_generator, steps=50)\n",
    "\n",
    "print('test loss:', test_loss)\n",
    "print('test acc:', test_acc)"
   ]
  },
  {
   "cell_type": "markdown",
   "metadata": {
    "colab_type": "text",
    "id": "4m1u_4-adGjj"
   },
   "source": [
    ">The second model performed poorly."
   ]
  },
  {
   "cell_type": "markdown",
   "metadata": {
    "colab_type": "text",
    "id": "oo-CiZ6tdUDy"
   },
   "source": [
    "__Plot Confusion Matrix__"
   ]
  },
  {
   "cell_type": "code",
   "execution_count": 0,
   "metadata": {
    "colab": {
     "base_uri": "https://localhost:8080/",
     "height": 176
    },
    "colab_type": "code",
    "id": "jDsvcXVA-Zgo",
    "outputId": "0eee93e3-851b-47df-d3fe-b9ab91404ca8"
   },
   "outputs": [
    {
     "name": "stdout",
     "output_type": "stream",
     "text": [
      "              precision    recall  f1-score   support\n",
      "\n",
      "           0       0.35      0.26      0.30       234\n",
      "           1       0.61      0.71      0.66       390\n",
      "\n",
      "    accuracy                           0.54       624\n",
      "   macro avg       0.48      0.48      0.48       624\n",
      "weighted avg       0.51      0.54      0.52       624\n",
      "\n"
     ]
    }
   ],
   "source": [
    "# viewing classification report\n",
    "# from sklearn.metrics import confusion_matrix, classification_report\n",
    "print(classification_report(y_true, y_pred, labels=[0,1]))"
   ]
  },
  {
   "cell_type": "code",
   "execution_count": 0,
   "metadata": {
    "colab": {},
    "colab_type": "code",
    "id": "__qJDOqA-Zgs"
   },
   "outputs": [],
   "source": [
    "# from sklearn.metrics import confusion_matrix\n",
    "# instantiate variables for true and predicted arrays\n",
    "y_true=test_generator.classes\n",
    "\n",
    "y_pred = model_2.predict_generator(test_generator)\n",
    "y_pred = np.rint(y_pred)"
   ]
  },
  {
   "cell_type": "markdown",
   "metadata": {
    "colab_type": "text",
    "id": "sZDrJWGN-Zgt"
   },
   "source": [
    "Call on the custom function to measure performance"
   ]
  },
  {
   "cell_type": "code",
   "execution_count": 0,
   "metadata": {
    "colab": {
     "base_uri": "https://localhost:8080/",
     "height": 105
    },
    "colab_type": "code",
    "id": "QSuKk0T6-Zgw",
    "outputId": "0cd95728-78ec-4ba4-a44e-b755e3aa1a22"
   },
   "outputs": [
    {
     "name": "stdout",
     "output_type": "stream",
     "text": [
      "TN = 61\n",
      "TP = 276\n",
      "FN = 114\n",
      "FP = 173\n",
      "\n"
     ]
    }
   ],
   "source": [
    "#viewing performance measures\n",
    "perf_measure(y_true, y_pred)"
   ]
  },
  {
   "cell_type": "code",
   "execution_count": 0,
   "metadata": {
    "colab": {
     "base_uri": "https://localhost:8080/",
     "height": 418
    },
    "colab_type": "code",
    "id": "mCE5j3QP-Zgz",
    "outputId": "80df3bf1-bf38-46f9-c409-203bf7ab5fe2"
   },
   "outputs": [
    {
     "name": "stdout",
     "output_type": "stream",
     "text": [
      "[[  0 234]\n",
      " [  0 390]]\n"
     ]
    },
    {
     "data": {
      "image/png": "[encoded data removed]",
      "text/plain": [
       "<Figure size 360x360 with 1 Axes>"
      ]
     },
     "metadata": {
      "needs_background": "light",
      "tags": []
     },
     "output_type": "display_data"
    }
   ],
   "source": [
    "labels = [0,1]\n",
    "CM = confusion_matrix(y_true, y_pred, labels)\n",
    "\n",
    "fig, ax = plot_confusion_matrix(conf_mat=CM , \n",
    "                                figsize=(5, 5), \n",
    "                                hide_ticks=False, \n",
    "                                cmap=plt.cm.Blues)\n",
    "\n",
    "ax.set_xticklabels([''] + labels) \n",
    "ax.set_yticklabels([''] + labels) \n",
    "print(CM) \n",
    "\n",
    "plt.title(\"\\nConfusion Matrix for Augmented Model 2\", \n",
    "          fontsize=15)\n",
    "fig.savefig(\"aug_model_2_CM\", dpi=100)\n",
    "plt.show()"
   ]
  },
  {
   "cell_type": "code",
   "execution_count": 0,
   "metadata": {
    "colab": {
     "base_uri": "https://localhost:8080/",
     "height": 1000
    },
    "colab_type": "code",
    "id": "nq5wDuVXdUD0",
    "outputId": "c0028ad4-2ab0-4f98-ea85-f195af59f192"
   },
   "outputs": [
    {
     "name": "stdout",
     "output_type": "stream",
     "text": [
      "[0 0 0 0 0 0 0 0 0 0 0 0 0 0 0 0 0 0 0 0 0 0 0 0 0 0 0 0 0 0 0 0 0 0 0 0 0\n",
      " 0 0 0 0 0 0 0 0 0 0 0 0 0 0 0 0 0 0 0 0 0 0 0 0 0 0 0 0 0 0 0 0 0 0 0 0 0\n",
      " 0 0 0 0 0 0 0 0 0 0 0 0 0 0 0 0 0 0 0 0 0 0 0 0 0 0 0 0 0 0 0 0 0 0 0 0 0\n",
      " 0 0 0 0 0 0 0 0 0 0 0 0 0 0 0 0 0 0 0 0 0 0 0 0 0 0 0 0 0 0 0 0 0 0 0 0 0\n",
      " 0 0 0 0 0 0 0 0 0 0 0 0 0 0 0 0 0 0 0 0 0 0 0 0 0 0 0 0 0 0 0 0 0 0 0 0 0\n",
      " 0 0 0 0 0 0 0 0 0 0 0 0 0 0 0 0 0 0 0 0 0 0 0 0 0 0 0 0 0 0 0 0 0 0 0 0 0\n",
      " 0 0 0 0 0 0 0 0 0 0 0 0 1 1 1 1 1 1 1 1 1 1 1 1 1 1 1 1 1 1 1 1 1 1 1 1 1\n",
      " 1 1 1 1 1 1 1 1 1 1 1 1 1 1 1 1 1 1 1 1 1 1 1 1 1 1 1 1 1 1 1 1 1 1 1 1 1\n",
      " 1 1 1 1 1 1 1 1 1 1 1 1 1 1 1 1 1 1 1 1 1 1 1 1 1 1 1 1 1 1 1 1 1 1 1 1 1\n",
      " 1 1 1 1 1 1 1 1 1 1 1 1 1 1 1 1 1 1 1 1 1 1 1 1 1 1 1 1 1 1 1 1 1 1 1 1 1\n",
      " 1 1 1 1 1 1 1 1 1 1 1 1 1 1 1 1 1 1 1 1 1 1 1 1 1 1 1 1 1 1 1 1 1 1 1 1 1\n",
      " 1 1 1 1 1 1 1 1 1 1 1 1 1 1 1 1 1 1 1 1 1 1 1 1 1 1 1 1 1 1 1 1 1 1 1 1 1\n",
      " 1 1 1 1 1 1 1 1 1 1 1 1 1 1 1 1 1 1 1 1 1 1 1 1 1 1 1 1 1 1 1 1 1 1 1 1 1\n",
      " 1 1 1 1 1 1 1 1 1 1 1 1 1 1 1 1 1 1 1 1 1 1 1 1 1 1 1 1 1 1 1 1 1 1 1 1 1\n",
      " 1 1 1 1 1 1 1 1 1 1 1 1 1 1 1 1 1 1 1 1 1 1 1 1 1 1 1 1 1 1 1 1 1 1 1 1 1\n",
      " 1 1 1 1 1 1 1 1 1 1 1 1 1 1 1 1 1 1 1 1 1 1 1 1 1 1 1 1 1 1 1 1 1 1 1 1 1\n",
      " 1 1 1 1 1 1 1 1 1 1 1 1 1 1 1 1 1 1 1 1 1 1 1 1 1 1 1 1 1 1 1 1]\n",
      "[[1.]\n",
      " [1.]\n",
      " [1.]\n",
      " [1.]\n",
      " [1.]\n",
      " [1.]\n",
      " [1.]\n",
      " [1.]\n",
      " [1.]\n",
      " [1.]\n",
      " [1.]\n",
      " [1.]\n",
      " [1.]\n",
      " [1.]\n",
      " [1.]\n",
      " [1.]\n",
      " [1.]\n",
      " [1.]\n",
      " [1.]\n",
      " [1.]\n",
      " [1.]\n",
      " [1.]\n",
      " [1.]\n",
      " [1.]\n",
      " [1.]\n",
      " [1.]\n",
      " [1.]\n",
      " [1.]\n",
      " [1.]\n",
      " [1.]\n",
      " [1.]\n",
      " [1.]\n",
      " [1.]\n",
      " [1.]\n",
      " [1.]\n",
      " [1.]\n",
      " [1.]\n",
      " [1.]\n",
      " [1.]\n",
      " [1.]\n",
      " [1.]\n",
      " [1.]\n",
      " [1.]\n",
      " [1.]\n",
      " [1.]\n",
      " [1.]\n",
      " [1.]\n",
      " [1.]\n",
      " [1.]\n",
      " [1.]\n",
      " [1.]\n",
      " [1.]\n",
      " [1.]\n",
      " [1.]\n",
      " [1.]\n",
      " [1.]\n",
      " [1.]\n",
      " [1.]\n",
      " [1.]\n",
      " [1.]\n",
      " [1.]\n",
      " [1.]\n",
      " [1.]\n",
      " [1.]\n",
      " [1.]\n",
      " [1.]\n",
      " [1.]\n",
      " [1.]\n",
      " [1.]\n",
      " [1.]\n",
      " [1.]\n",
      " [1.]\n",
      " [1.]\n",
      " [1.]\n",
      " [1.]\n",
      " [1.]\n",
      " [1.]\n",
      " [1.]\n",
      " [1.]\n",
      " [1.]\n",
      " [1.]\n",
      " [1.]\n",
      " [1.]\n",
      " [1.]\n",
      " [1.]\n",
      " [1.]\n",
      " [1.]\n",
      " [1.]\n",
      " [1.]\n",
      " [1.]\n",
      " [1.]\n",
      " [1.]\n",
      " [1.]\n",
      " [1.]\n",
      " [1.]\n",
      " [1.]\n",
      " [1.]\n",
      " [1.]\n",
      " [1.]\n",
      " [1.]\n",
      " [1.]\n",
      " [1.]\n",
      " [1.]\n",
      " [1.]\n",
      " [1.]\n",
      " [1.]\n",
      " [1.]\n",
      " [1.]\n",
      " [1.]\n",
      " [1.]\n",
      " [1.]\n",
      " [1.]\n",
      " [1.]\n",
      " [1.]\n",
      " [1.]\n",
      " [1.]\n",
      " [1.]\n",
      " [1.]\n",
      " [1.]\n",
      " [1.]\n",
      " [1.]\n",
      " [1.]\n",
      " [1.]\n",
      " [1.]\n",
      " [1.]\n",
      " [1.]\n",
      " [1.]\n",
      " [1.]\n",
      " [1.]\n",
      " [1.]\n",
      " [1.]\n",
      " [1.]\n",
      " [1.]\n",
      " [1.]\n",
      " [1.]\n",
      " [1.]\n",
      " [1.]\n",
      " [1.]\n",
      " [1.]\n",
      " [1.]\n",
      " [1.]\n",
      " [1.]\n",
      " [1.]\n",
      " [1.]\n",
      " [1.]\n",
      " [1.]\n",
      " [1.]\n",
      " [1.]\n",
      " [1.]\n",
      " [1.]\n",
      " [1.]\n",
      " [1.]\n",
      " [1.]\n",
      " [1.]\n",
      " [1.]\n",
      " [1.]\n",
      " [1.]\n",
      " [1.]\n",
      " [1.]\n",
      " [1.]\n",
      " [1.]\n",
      " [1.]\n",
      " [1.]\n",
      " [1.]\n",
      " [1.]\n",
      " [1.]\n",
      " [1.]\n",
      " [1.]\n",
      " [1.]\n",
      " [1.]\n",
      " [1.]\n",
      " [1.]\n",
      " [1.]\n",
      " [1.]\n",
      " [1.]\n",
      " [1.]\n",
      " [1.]\n",
      " [1.]\n",
      " [1.]\n",
      " [1.]\n",
      " [1.]\n",
      " [1.]\n",
      " [1.]\n",
      " [1.]\n",
      " [1.]\n",
      " [1.]\n",
      " [1.]\n",
      " [1.]\n",
      " [1.]\n",
      " [1.]\n",
      " [1.]\n",
      " [1.]\n",
      " [1.]\n",
      " [1.]\n",
      " [1.]\n",
      " [1.]\n",
      " [1.]\n",
      " [1.]\n",
      " [1.]\n",
      " [1.]\n",
      " [1.]\n",
      " [1.]\n",
      " [1.]\n",
      " [1.]\n",
      " [1.]\n",
      " [1.]\n",
      " [1.]\n",
      " [1.]\n",
      " [1.]\n",
      " [1.]\n",
      " [1.]\n",
      " [1.]\n",
      " [1.]\n",
      " [1.]\n",
      " [1.]\n",
      " [1.]\n",
      " [1.]\n",
      " [1.]\n",
      " [1.]\n",
      " [1.]\n",
      " [1.]\n",
      " [1.]\n",
      " [1.]\n",
      " [1.]\n",
      " [1.]\n",
      " [1.]\n",
      " [1.]\n",
      " [1.]\n",
      " [1.]\n",
      " [1.]\n",
      " [1.]\n",
      " [1.]\n",
      " [1.]\n",
      " [1.]\n",
      " [1.]\n",
      " [1.]\n",
      " [1.]\n",
      " [1.]\n",
      " [1.]\n",
      " [1.]\n",
      " [1.]\n",
      " [1.]\n",
      " [1.]\n",
      " [1.]\n",
      " [1.]\n",
      " [1.]\n",
      " [1.]\n",
      " [1.]\n",
      " [1.]\n",
      " [1.]\n",
      " [1.]\n",
      " [1.]\n",
      " [1.]\n",
      " [1.]\n",
      " [1.]\n",
      " [1.]\n",
      " [1.]\n",
      " [1.]\n",
      " [1.]\n",
      " [1.]\n",
      " [1.]\n",
      " [1.]\n",
      " [1.]\n",
      " [1.]\n",
      " [1.]\n",
      " [1.]\n",
      " [1.]\n",
      " [1.]\n",
      " [1.]\n",
      " [1.]\n",
      " [1.]\n",
      " [1.]\n",
      " [1.]\n",
      " [1.]\n",
      " [1.]\n",
      " [1.]\n",
      " [1.]\n",
      " [1.]\n",
      " [1.]\n",
      " [1.]\n",
      " [1.]\n",
      " [1.]\n",
      " [1.]\n",
      " [1.]\n",
      " [1.]\n",
      " [1.]\n",
      " [1.]\n",
      " [1.]\n",
      " [1.]\n",
      " [1.]\n",
      " [1.]\n",
      " [1.]\n",
      " [1.]\n",
      " [1.]\n",
      " [1.]\n",
      " [1.]\n",
      " [1.]\n",
      " [1.]\n",
      " [1.]\n",
      " [1.]\n",
      " [1.]\n",
      " [1.]\n",
      " [1.]\n",
      " [1.]\n",
      " [1.]\n",
      " [1.]\n",
      " [1.]\n",
      " [1.]\n",
      " [1.]\n",
      " [1.]\n",
      " [1.]\n",
      " [1.]\n",
      " [1.]\n",
      " [1.]\n",
      " [1.]\n",
      " [1.]\n",
      " [1.]\n",
      " [1.]\n",
      " [1.]\n",
      " [1.]\n",
      " [1.]\n",
      " [1.]\n",
      " [1.]\n",
      " [1.]\n",
      " [1.]\n",
      " [1.]\n",
      " [1.]\n",
      " [1.]\n",
      " [1.]\n",
      " [1.]\n",
      " [1.]\n",
      " [1.]\n",
      " [1.]\n",
      " [1.]\n",
      " [1.]\n",
      " [1.]\n",
      " [1.]\n",
      " [1.]\n",
      " [1.]\n",
      " [1.]\n",
      " [1.]\n",
      " [1.]\n",
      " [1.]\n",
      " [1.]\n",
      " [1.]\n",
      " [1.]\n",
      " [1.]\n",
      " [1.]\n",
      " [1.]\n",
      " [1.]\n",
      " [1.]\n",
      " [1.]\n",
      " [1.]\n",
      " [1.]\n",
      " [1.]\n",
      " [1.]\n",
      " [1.]\n",
      " [1.]\n",
      " [1.]\n",
      " [1.]\n",
      " [1.]\n",
      " [1.]\n",
      " [1.]\n",
      " [1.]\n",
      " [1.]\n",
      " [1.]\n",
      " [1.]\n",
      " [1.]\n",
      " [1.]\n",
      " [1.]\n",
      " [1.]\n",
      " [1.]\n",
      " [1.]\n",
      " [1.]\n",
      " [1.]\n",
      " [1.]\n",
      " [1.]\n",
      " [1.]\n",
      " [1.]\n",
      " [1.]\n",
      " [1.]\n",
      " [1.]\n",
      " [1.]\n",
      " [1.]\n",
      " [1.]\n",
      " [1.]\n",
      " [1.]\n",
      " [1.]\n",
      " [1.]\n",
      " [1.]\n",
      " [1.]\n",
      " [1.]\n",
      " [1.]\n",
      " [1.]\n",
      " [1.]\n",
      " [1.]\n",
      " [1.]\n",
      " [1.]\n",
      " [1.]\n",
      " [1.]\n",
      " [1.]\n",
      " [1.]\n",
      " [1.]\n",
      " [1.]\n",
      " [1.]\n",
      " [1.]\n",
      " [1.]\n",
      " [1.]\n",
      " [1.]\n",
      " [1.]\n",
      " [1.]\n",
      " [1.]\n",
      " [1.]\n",
      " [1.]\n",
      " [1.]\n",
      " [1.]\n",
      " [1.]\n",
      " [1.]\n",
      " [1.]\n",
      " [1.]\n",
      " [1.]\n",
      " [1.]\n",
      " [1.]\n",
      " [1.]\n",
      " [1.]\n",
      " [1.]\n",
      " [1.]\n",
      " [1.]\n",
      " [1.]\n",
      " [1.]\n",
      " [1.]\n",
      " [1.]\n",
      " [1.]\n",
      " [1.]\n",
      " [1.]\n",
      " [1.]\n",
      " [1.]\n",
      " [1.]\n",
      " [1.]\n",
      " [1.]\n",
      " [1.]\n",
      " [1.]\n",
      " [1.]\n",
      " [1.]\n",
      " [1.]\n",
      " [1.]\n",
      " [1.]\n",
      " [1.]\n",
      " [1.]\n",
      " [1.]\n",
      " [1.]\n",
      " [1.]\n",
      " [1.]\n",
      " [1.]\n",
      " [1.]\n",
      " [1.]\n",
      " [1.]\n",
      " [1.]\n",
      " [1.]\n",
      " [1.]\n",
      " [1.]\n",
      " [1.]\n",
      " [1.]\n",
      " [1.]\n",
      " [1.]\n",
      " [1.]\n",
      " [1.]\n",
      " [1.]\n",
      " [1.]\n",
      " [1.]\n",
      " [1.]\n",
      " [1.]\n",
      " [1.]\n",
      " [1.]\n",
      " [1.]\n",
      " [1.]\n",
      " [1.]\n",
      " [1.]\n",
      " [1.]\n",
      " [1.]\n",
      " [1.]\n",
      " [1.]\n",
      " [1.]\n",
      " [1.]\n",
      " [1.]\n",
      " [1.]\n",
      " [1.]\n",
      " [1.]\n",
      " [1.]\n",
      " [1.]\n",
      " [1.]\n",
      " [1.]\n",
      " [1.]\n",
      " [1.]\n",
      " [1.]\n",
      " [1.]\n",
      " [1.]\n",
      " [1.]\n",
      " [1.]\n",
      " [1.]\n",
      " [1.]\n",
      " [1.]\n",
      " [1.]\n",
      " [1.]\n",
      " [1.]\n",
      " [1.]\n",
      " [1.]\n",
      " [1.]\n",
      " [1.]\n",
      " [1.]\n",
      " [1.]\n",
      " [1.]\n",
      " [1.]\n",
      " [1.]\n",
      " [1.]\n",
      " [1.]\n",
      " [1.]\n",
      " [1.]\n",
      " [1.]\n",
      " [1.]\n",
      " [1.]\n",
      " [1.]\n",
      " [1.]\n",
      " [1.]\n",
      " [1.]\n",
      " [1.]\n",
      " [1.]\n",
      " [1.]\n",
      " [1.]\n",
      " [1.]\n",
      " [1.]\n",
      " [1.]\n",
      " [1.]\n",
      " [1.]\n",
      " [1.]\n",
      " [1.]\n",
      " [1.]\n",
      " [1.]\n",
      " [1.]\n",
      " [1.]\n",
      " [1.]\n",
      " [1.]\n",
      " [1.]\n",
      " [1.]\n",
      " [1.]\n",
      " [1.]\n",
      " [1.]\n",
      " [1.]\n",
      " [1.]\n",
      " [1.]\n",
      " [1.]\n",
      " [1.]\n",
      " [1.]\n",
      " [1.]\n",
      " [1.]\n",
      " [1.]\n",
      " [1.]\n",
      " [1.]\n",
      " [1.]\n",
      " [1.]\n",
      " [1.]\n",
      " [1.]\n",
      " [1.]\n",
      " [1.]\n",
      " [1.]\n",
      " [1.]\n",
      " [1.]\n",
      " [1.]\n",
      " [1.]\n",
      " [1.]\n",
      " [1.]\n",
      " [1.]\n",
      " [1.]\n",
      " [1.]\n",
      " [1.]\n",
      " [1.]\n",
      " [1.]\n",
      " [1.]\n",
      " [1.]\n",
      " [1.]\n",
      " [1.]\n",
      " [1.]\n",
      " [1.]\n",
      " [1.]\n",
      " [1.]\n",
      " [1.]\n",
      " [1.]\n",
      " [1.]\n",
      " [1.]\n",
      " [1.]\n",
      " [1.]\n",
      " [1.]\n",
      " [1.]\n",
      " [1.]\n",
      " [1.]\n",
      " [1.]\n",
      " [1.]\n",
      " [1.]\n",
      " [1.]\n",
      " [1.]\n",
      " [1.]\n",
      " [1.]\n",
      " [1.]\n",
      " [1.]\n",
      " [1.]\n",
      " [1.]\n",
      " [1.]\n",
      " [1.]\n",
      " [1.]\n",
      " [1.]\n",
      " [1.]\n",
      " [1.]\n",
      " [1.]\n",
      " [1.]\n",
      " [1.]\n",
      " [1.]\n",
      " [1.]\n",
      " [1.]\n",
      " [1.]\n",
      " [1.]\n",
      " [1.]\n",
      " [1.]\n",
      " [1.]\n",
      " [1.]]\n"
     ]
    }
   ],
   "source": [
    "# from sklearn.metrics import confusion_matrix\n",
    "y_true=test_generator.classes\n",
    "print(y_true)\n",
    "\n",
    "y_pred = model_2.predict_generator(test_generator)\n",
    "y_pred = np.rint(y_pred)\n",
    "print(y_pred)"
   ]
  },
  {
   "cell_type": "markdown",
   "metadata": {
    "colab_type": "text",
    "id": "ZiryzpJxAJNG"
   },
   "source": [
    ">It looks as though the training labels did not shuffle as expected."
   ]
  },
  {
   "cell_type": "markdown",
   "metadata": {
    "colab_type": "text",
    "id": "EX50HQY_AiIo"
   },
   "source": [
    "## Model 3"
   ]
  },
  {
   "cell_type": "markdown",
   "metadata": {
    "colab_type": "text",
    "id": "BWK1ggNRAk9z"
   },
   "source": [
    "* trying fewer layers and fewer dropouts\n",
    "* add dropout layers after each pooling layer"
   ]
  },
  {
   "cell_type": "code",
   "execution_count": 0,
   "metadata": {
    "colab": {},
    "colab_type": "code",
    "id": "S1WErkU6Ak9z"
   },
   "outputs": [],
   "source": [
    "# building the a 2nd CNN model\n",
    "model_3 = models.Sequential()\n",
    "model_3.add(layers.Conv2D(32, (3, 3), activation='relu', padding=\"same\",\n",
    "                        input_shape=(150, 150, 3)))\n",
    "model_3.add(layers.MaxPooling2D((2, 2)))\n",
    "model_3.add(Dropout(0.25))\n",
    "model_3.add(layers.Conv2D(64, (3, 3), activation='relu'))\n",
    "model_3.add(layers.MaxPooling2D((2, 2)))\n",
    "model.add(Dropout(0.25))\n",
    "model_3.add(layers.Conv2D(128, (3, 3), activation='relu'))\n",
    "model_3.add(layers.MaxPooling2D((2, 2)))\n",
    "model_3.add(layers.Flatten() )# this converts 3D feature maps to 1D vectors\n",
    "model_3.add(layers.Dense(512, activation='relu'))\n",
    "model_3.add(layers.Dense(1, activation='sigmoid'))"
   ]
  },
  {
   "cell_type": "markdown",
   "metadata": {
    "colab_type": "text",
    "id": "y5szmwHbAk93"
   },
   "source": [
    "* Change the optimizer to `Adam`\n",
    "* use 'accuracy' metrics"
   ]
  },
  {
   "cell_type": "code",
   "execution_count": 0,
   "metadata": {
    "colab": {},
    "colab_type": "code",
    "id": "rkoUIE4yAk94"
   },
   "outputs": [],
   "source": [
    "# compiling the model\n",
    "model_3.compile(loss='binary_crossentropy',\n",
    "              optimizer=optimizers.Adam(lr=1e-4),\n",
    "              metrics=['acc'])"
   ]
  },
  {
   "cell_type": "markdown",
   "metadata": {
    "colab_type": "text",
    "id": "s6Nn2UcOAk96"
   },
   "source": [
    ">Import keras modules: \n",
    "* to stop training when a monitored quantity has stopped improving\n",
    "* to save the model after every epoch\n",
    "* to reduce learning rate when a metric has stopped improving\n"
   ]
  },
  {
   "cell_type": "code",
   "execution_count": 0,
   "metadata": {
    "colab": {},
    "colab_type": "code",
    "id": "7lDxO7jZAk97"
   },
   "outputs": [],
   "source": [
    "# importing keras modules\n",
    "from keras.callbacks import EarlyStopping\n",
    "from keras.callbacks import ModelCheckpoint\n",
    "from keras.callbacks import ReduceLROnPlateau"
   ]
  },
  {
   "cell_type": "code",
   "execution_count": 0,
   "metadata": {
    "colab": {},
    "colab_type": "code",
    "id": "fC6OfhHBtBms"
   },
   "outputs": [],
   "source": [
    "# increase early stopping patience"
   ]
  },
  {
   "cell_type": "code",
   "execution_count": 0,
   "metadata": {
    "colab": {},
    "colab_type": "code",
    "id": "VtF6Sfk6Ak9-"
   },
   "outputs": [],
   "source": [
    "# updating callback checkpoints\n",
    "f_path = './models/'\n",
    "my_callbacks = [\n",
    "    EarlyStopping(patience=7, verbose=1),\n",
    "    ReduceLROnPlateau(factor=0.1, patience=3, min_lr=0.00001, verbose=1),\n",
    "    ModelCheckpoint(filepath = f_path + 'p3_model_3.h5', \n",
    "    verbose=1, save_best_only=True, save_weights_only=False) \n",
    "    ]"
   ]
  },
  {
   "cell_type": "code",
   "execution_count": 0,
   "metadata": {
    "colab": {
     "base_uri": "https://localhost:8080/",
     "height": 194
    },
    "colab_type": "code",
    "id": "Uqs-AYq1Ak-B",
    "outputId": "c2476ef8-7a82-4337-e803-1d06e0632b4a"
   },
   "outputs": [
    {
     "name": "stdout",
     "output_type": "stream",
     "text": [
      "Epoch 1/30\n",
      "100/100 [==============================] - 223s 2s/step - loss: 10.3657 - acc: 0.6851 - val_loss: 0.6920 - val_acc: 0.6250\n",
      "\n",
      "Epoch 00001: val_loss improved from inf to 0.69203, saving model to ./models/p3_model_3.h5\n",
      "Epoch 2/30\n",
      "100/100 [==============================] - 210s 2s/step - loss: 0.5616 - acc: 0.7814 - val_loss: 0.6916 - val_acc: 0.6875\n",
      "\n",
      "Epoch 00002: val_loss improved from 0.69203 to 0.69161, saving model to ./models/p3_model_3.h5\n",
      "Epoch 3/30\n",
      " 14/100 [===>..........................] - ETA: 1:59 - loss: 0.4875 - acc: 0.7927"
     ]
    }
   ],
   "source": [
    "# training and evaluating the model\n",
    "# using the callback in the `model.fit`\n",
    "history_3 = model_3.fit_generator(train_generator, \n",
    "                              steps_per_epoch=100, \n",
    "                              epochs=30, \n",
    "                              validation_data=validation_generator, \n",
    "                              validation_steps=50, \n",
    "                              callbacks = my_callbacks)"
   ]
  },
  {
   "cell_type": "code",
   "execution_count": 0,
   "metadata": {
    "colab": {
     "base_uri": "https://localhost:8080/",
     "height": 167
    },
    "colab_type": "code",
    "id": "Ql8mOO-CAk-G",
    "outputId": "5b38571b-6668-451d-a51f-e31a18449397"
   },
   "outputs": [
    {
     "ename": "NameError",
     "evalue": "ignored",
     "output_type": "error",
     "traceback": [
      "\u001b[0;31m---------------------------------------------------------------------------\u001b[0m",
      "\u001b[0;31mNameError\u001b[0m                                 Traceback (most recent call last)",
      "\u001b[0;32m<ipython-input-1-0238086cd86b>\u001b[0m in \u001b[0;36m<module>\u001b[0;34m()\u001b[0m\n\u001b[0;32m----> 1\u001b[0;31m \u001b[0mmodel_3\u001b[0m\u001b[0;34m.\u001b[0m\u001b[0msummary\u001b[0m\u001b[0;34m(\u001b[0m\u001b[0;34m)\u001b[0m\u001b[0;34m\u001b[0m\u001b[0;34m\u001b[0m\u001b[0m\n\u001b[0m",
      "\u001b[0;31mNameError\u001b[0m: name 'model_3' is not defined"
     ]
    }
   ],
   "source": [
    "model_3.summary()"
   ]
  },
  {
   "cell_type": "markdown",
   "metadata": {
    "colab_type": "text",
    "id": "_FbNna26Ak-I"
   },
   "source": [
    "__Visualize Training Results__"
   ]
  },
  {
   "cell_type": "code",
   "execution_count": 0,
   "metadata": {
    "colab": {
     "base_uri": "https://localhost:8080/",
     "height": 544
    },
    "colab_type": "code",
    "id": "virbd0RwAk-J",
    "outputId": "4160dd9d-d9a1-4ac0-ba6b-e0124a63d60b"
   },
   "outputs": [
    {
     "data": {
      "image/png": "[encoded data removed]",
      "text/plain": [
       "<Figure size 432x288 with 1 Axes>"
      ]
     },
     "metadata": {
      "needs_background": "light",
      "tags": []
     },
     "output_type": "display_data"
    },
    {
     "data": {
      "image/png": "[encoded data removed]",
      "text/plain": [
       "<Figure size 432x288 with 1 Axes>"
      ]
     },
     "metadata": {
      "needs_background": "light",
      "tags": []
     },
     "output_type": "display_data"
    }
   ],
   "source": [
    "import matplotlib.pyplot as plt\n",
    "%matplotlib inline \n",
    "acc = history_3.history['acc']\n",
    "val_acc = history_3.history['val_acc']\n",
    "loss = history_3.history['loss']\n",
    "val_loss = history_3.history['val_loss']\n",
    "epochs = range(len(acc))\n",
    "plt.plot(epochs, acc, 'bo', label='Training acc')\n",
    "plt.plot(epochs, val_acc, 'b', label='Validation acc')\n",
    "plt.title('Training and validation accuracy along epochs')\n",
    "plt.legend()\n",
    "plt.figure()\n",
    "plt.plot(epochs, loss, 'bo', label='Training loss')\n",
    "plt.plot(epochs, val_loss, 'b', label='Validation loss')\n",
    "plt.title('Training and validation loss along epochs')\n",
    "plt.legend()\n",
    "plt.show()"
   ]
  },
  {
   "cell_type": "code",
   "execution_count": 0,
   "metadata": {
    "colab": {
     "base_uri": "https://localhost:8080/",
     "height": 52
    },
    "colab_type": "code",
    "id": "CC4UrjX3Ak-M",
    "outputId": "4095d042-3660-4373-d1b6-09cf4bf11b5b"
   },
   "outputs": [
    {
     "name": "stdout",
     "output_type": "stream",
     "text": [
      "val loss: 0.691329300403595\n",
      "val acc: 0.625\n"
     ]
    }
   ],
   "source": [
    "val_loss, val_acc = model_3.evaluate_generator(validation_generator, \n",
    "                                               steps=50)\n",
    "\n",
    "print('val loss:', val_loss)\n",
    "print('val acc:', val_acc)"
   ]
  },
  {
   "cell_type": "markdown",
   "metadata": {
    "colab_type": "text",
    "id": "PMnH1ARzeprv"
   },
   "source": [
    "> Acurracy droped from the previous model."
   ]
  },
  {
   "cell_type": "markdown",
   "metadata": {
    "colab_type": "text",
    "id": "sP23jqYydvsa"
   },
   "source": [
    "__Plot Confusion Matrix__"
   ]
  },
  {
   "cell_type": "code",
   "execution_count": 0,
   "metadata": {
    "colab": {
     "base_uri": "https://localhost:8080/",
     "height": 52
    },
    "colab_type": "code",
    "id": "UsVNyo0Cdvsb",
    "outputId": "3aa778a1-43ed-47d2-e68d-c1a450dd9279"
   },
   "outputs": [
    {
     "name": "stdout",
     "output_type": "stream",
     "text": [
      "[0 0 0 0 0 0 0 0 1 1 1 1 1 1 1 1]\n",
      "[0 0 0 0 0 0 0 0 0 0 0 0 0 0 0 0]\n"
     ]
    }
   ],
   "source": [
    "# from sklearn.metrics import confusion_matrix\n",
    "y_true=validation_generator.classes\n",
    "print(y_true)\n",
    "\n",
    "y_pred = model_3.predict_generator(validation_generator)\n",
    "y_pred = np.rint(y_pred)\n",
    "print(y_pred)"
   ]
  },
  {
   "cell_type": "code",
   "execution_count": 0,
   "metadata": {
    "colab": {
     "base_uri": "https://localhost:8080/",
     "height": 238
    },
    "colab_type": "code",
    "id": "PH_2PV2__lPl",
    "outputId": "076c895b-d20b-4566-b783-4b11dfbe7950"
   },
   "outputs": [
    {
     "ename": "NameError",
     "evalue": "ignored",
     "output_type": "error",
     "traceback": [
      "\u001b[0;31m---------------------------------------------------------------------------\u001b[0m",
      "\u001b[0;31mNameError\u001b[0m                                 Traceback (most recent call last)",
      "\u001b[0;32m<ipython-input-71-17b3c8a12d1b>\u001b[0m in \u001b[0;36m<module>\u001b[0;34m()\u001b[0m\n\u001b[0;32m----> 1\u001b[0;31m \u001b[0mCM\u001b[0m \u001b[0;34m=\u001b[0m \u001b[0mconfusion_matrix\u001b[0m\u001b[0;34m(\u001b[0m\u001b[0my_true\u001b[0m\u001b[0;34m,\u001b[0m \u001b[0my_pred\u001b[0m\u001b[0;34m)\u001b[0m\u001b[0;34m\u001b[0m\u001b[0;34m\u001b[0m\u001b[0m\n\u001b[0m\u001b[1;32m      2\u001b[0m \u001b[0;34m\u001b[0m\u001b[0m\n\u001b[1;32m      3\u001b[0m fig, ax = plot_confusion_matrix(conf_mat=CM , \n\u001b[1;32m      4\u001b[0m                                 \u001b[0mfigsize\u001b[0m\u001b[0;34m=\u001b[0m\u001b[0;34m(\u001b[0m\u001b[0;36m7\u001b[0m\u001b[0;34m,\u001b[0m \u001b[0;36m7\u001b[0m\u001b[0;34m)\u001b[0m\u001b[0;34m,\u001b[0m\u001b[0;34m\u001b[0m\u001b[0;34m\u001b[0m\u001b[0m\n\u001b[1;32m      5\u001b[0m                                 \u001b[0mhide_ticks\u001b[0m\u001b[0;34m=\u001b[0m\u001b[0;32mTrue\u001b[0m\u001b[0;34m,\u001b[0m\u001b[0;34m\u001b[0m\u001b[0;34m\u001b[0m\u001b[0m\n",
      "\u001b[0;31mNameError\u001b[0m: name 'confusion_matrix' is not defined"
     ]
    }
   ],
   "source": [
    "CM = confusion_matrix(y_true, y_pred)\n",
    "\n",
    "fig, ax = plot_confusion_matrix(conf_mat=CM , \n",
    "                                figsize=(7, 7), \n",
    "                                hide_ticks=True, \n",
    "                                cmap=plt.cm.Blues)\n",
    "# plt.xticks(range(len(classes)), classes, fontsize=12)\n",
    "# plt.yticks(range(len(classes)), classes, fontsize=12)\n",
    "plt.title(\"Confusion Matrix for ...: \\n\") #+model_title, fontsize=11\n",
    "# fig.savefig(image_file_name_CM, dpi=100)\n",
    "plt.show()"
   ]
  },
  {
   "cell_type": "code",
   "execution_count": 0,
   "metadata": {
    "colab": {
     "base_uri": "https://localhost:8080/",
     "height": 461
    },
    "colab_type": "code",
    "id": "L5xxfgOGAk-E",
    "outputId": "cd57ed0c-12f9-4e4d-f1cf-f4a6357fc470"
   },
   "outputs": [
    {
     "name": "stderr",
     "output_type": "stream",
     "text": [
      "----------------------------------------\n",
      "Exception happened during processing of request from ('::ffff:127.0.0.1', 36166, 0, 0)\n",
      "Traceback (most recent call last):\n",
      "  File \"/usr/lib/python3.6/socketserver.py\", line 320, in _handle_request_noblock\n",
      "    self.process_request(request, client_address)\n",
      "  File \"/usr/lib/python3.6/socketserver.py\", line 351, in process_request\n",
      "    self.finish_request(request, client_address)\n",
      "  File \"/usr/lib/python3.6/socketserver.py\", line 364, in finish_request\n",
      "    self.RequestHandlerClass(request, client_address, self)\n",
      "  File \"/usr/lib/python3.6/socketserver.py\", line 724, in __init__\n",
      "    self.handle()\n",
      "  File \"/usr/lib/python3.6/http/server.py\", line 418, in handle\n",
      "    self.handle_one_request()\n",
      "  File \"/usr/lib/python3.6/http/server.py\", line 406, in handle_one_request\n",
      "    method()\n",
      "  File \"/usr/lib/python3.6/http/server.py\", line 639, in do_GET\n",
      "    self.copyfile(f, self.wfile)\n",
      "  File \"/usr/lib/python3.6/http/server.py\", line 800, in copyfile\n",
      "    shutil.copyfileobj(source, outputfile)\n",
      "  File \"/usr/lib/python3.6/shutil.py\", line 82, in copyfileobj\n",
      "    fdst.write(buf)\n",
      "  File \"/usr/lib/python3.6/socketserver.py\", line 803, in write\n",
      "    self._sock.sendall(b)\n",
      "ConnectionResetError: [Errno 104] Connection reset by peer\n",
      "----------------------------------------\n"
     ]
    }
   ],
   "source": [
    "# download the model\n",
    "files.download('./models/p3_model_3.h5')"
   ]
  },
  {
   "cell_type": "markdown",
   "metadata": {
    "colab_type": "text",
    "id": "mfI6pTbAFqJS"
   },
   "source": [
    "### Evaluate Model 3 on Test Data"
   ]
  },
  {
   "cell_type": "code",
   "execution_count": 0,
   "metadata": {
    "colab": {
     "base_uri": "https://localhost:8080/",
     "height": 70
    },
    "colab_type": "code",
    "id": "U4WXr3ZEFqJT",
    "outputId": "c8500815-8894-45d7-9685-ca98510e9f4e"
   },
   "outputs": [
    {
     "name": "stdout",
     "output_type": "stream",
     "text": [
      "Found 624 images belonging to 2 classes.\n",
      "test loss: 0.688644528388977\n",
      "test acc: 0.6707317233085632\n"
     ]
    }
   ],
   "source": [
    "test_generator = test_datagen.flow_from_directory(test_dir, \n",
    "                                                  target_size=(150, 150), \n",
    "                                                  batch_size=20, \n",
    "                                                  class_mode='binary')\n",
    "\n",
    "test_loss, test_acc = model_3.evaluate_generator(test_generator, steps=50)\n",
    "\n",
    "print('test loss:', test_loss)\n",
    "print('test acc:', test_acc)"
   ]
  },
  {
   "cell_type": "markdown",
   "metadata": {
    "colab_type": "text",
    "id": "9LG3hOcjfIWk"
   },
   "source": [
    ">The accuracy score for test data is even (slightly) lower than that of the second model."
   ]
  }
 ],
 "metadata": {
  "accelerator": "GPU",
  "colab": {
   "authorship_tag": "ABX9TyNGOeNQ2N7oB3jxTYhd2vjj",
   "collapsed_sections": [],
   "machine_shape": "hm",
   "name": "2-explore-model.ipynb",
   "provenance": [],
   "toc_visible": true
  },
  "kernelspec": {
   "display_name": "Python 3",
   "name": "python3"
  }
 },
 "nbformat": 4,
 "nbformat_minor": 0
}
